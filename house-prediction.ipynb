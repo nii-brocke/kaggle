{
 "cells": [
  {
   "cell_type": "code",
   "execution_count": 1,
   "id": "1d80124f",
   "metadata": {
    "_cell_guid": "b1076dfc-b9ad-4769-8c92-a6c4dae69d19",
    "_uuid": "8f2839f25d086af736a60e9eeb907d3b93b6e0e5",
    "execution": {
     "iopub.execute_input": "2023-02-16T21:57:07.801069Z",
     "iopub.status.busy": "2023-02-16T21:57:07.800616Z",
     "iopub.status.idle": "2023-02-16T21:57:09.316361Z",
     "shell.execute_reply": "2023-02-16T21:57:09.315334Z"
    },
    "papermill": {
     "duration": 1.527834,
     "end_time": "2023-02-16T21:57:09.318988",
     "exception": false,
     "start_time": "2023-02-16T21:57:07.791154",
     "status": "completed"
    },
    "tags": []
   },
   "outputs": [],
   "source": [
    "import numpy as np # linear algebra\n",
    "import pandas as pd # data processing, CSV file I/O (e.g. pd.read_csv)\n",
    "import matplotlib.pyplot as plt\n",
    "import seaborn as sns\n",
    "import sklearn.datasets\n",
    "# from sklearn.preprocessing import Imputer\n",
    "from sklearn.impute import SimpleImputer\n",
    "from sklearn.model_selection import train_test_split\n",
    "from xgboost import XGBRegressor\n",
    "from sklearn import metrics"
   ]
  },
  {
   "cell_type": "code",
   "execution_count": 2,
   "id": "13d4fe7d",
   "metadata": {
    "execution": {
     "iopub.execute_input": "2023-02-16T21:57:09.328413Z",
     "iopub.status.busy": "2023-02-16T21:57:09.328068Z",
     "iopub.status.idle": "2023-02-16T21:57:09.497554Z",
     "shell.execute_reply": "2023-02-16T21:57:09.496189Z"
    },
    "papermill": {
     "duration": 0.177018,
     "end_time": "2023-02-16T21:57:09.500167",
     "exception": false,
     "start_time": "2023-02-16T21:57:09.323149",
     "status": "completed"
    },
    "tags": []
   },
   "outputs": [],
   "source": [
    "#storing the data from a file path to the varriable\n",
    "house_price_train_dataset_path = '/kaggle/input/hse-m-psmsimmo-p-347795-1-apartmentprice/train.csv'\n",
    "house_price_train_dataset_table = pd.read_csv(house_price_train_dataset_path)\n",
    "house_price_test_dataset_path = '/kaggle/input/hse-m-psmsimmo-p-347795-1-apartmentprice/test.csv'\n",
    "house_price_test_dataset_table = pd.read_csv(house_price_test_dataset_path)"
   ]
  },
  {
   "cell_type": "code",
   "execution_count": 3,
   "id": "f56c7438",
   "metadata": {
    "_kg_hide-input": false,
    "_kg_hide-output": false,
    "collapsed": true,
    "execution": {
     "iopub.execute_input": "2023-02-16T21:57:09.509240Z",
     "iopub.status.busy": "2023-02-16T21:57:09.508894Z",
     "iopub.status.idle": "2023-02-16T21:57:09.564363Z",
     "shell.execute_reply": "2023-02-16T21:57:09.563312Z"
    },
    "jupyter": {
     "outputs_hidden": true
    },
    "papermill": {
     "duration": 0.063088,
     "end_time": "2023-02-16T21:57:09.567221",
     "exception": false,
     "start_time": "2023-02-16T21:57:09.504133",
     "status": "completed"
    },
    "tags": []
   },
   "outputs": [
    {
     "data": {
      "text/plain": [
       "Id             0\n",
       "Room           0\n",
       "Size           0\n",
       "Balcony        0\n",
       "Floor          0\n",
       "FloorsTotal    0\n",
       "Walls          0\n",
       "Age            0\n",
       "Lift           0\n",
       "District       0\n",
       "Okrug          0\n",
       "dtype: int64"
      ]
     },
     "execution_count": 3,
     "metadata": {},
     "output_type": "execute_result"
    }
   ],
   "source": [
    "#Deleting rows with empty cells in Age, District and Okrug and replacing all other rows with unknown for train and test dataset\n",
    "house_price_train_dataset_table_new = house_price_train_dataset_table.dropna(axis=0, subset=['Age', 'District','Okrug'])\n",
    "house_price_test_dataset_table_new = house_price_test_dataset_table.dropna(axis=0, subset=['Age', 'District','Okrug'])\n",
    "house_price_train_dataset_table_new = house_price_train_dataset_table.fillna(\"Unknown\")\n",
    "house_price_test_dataset_table_new = house_price_test_dataset_table_new.fillna(\"Unknown\")\n",
    "house_price_test_dataset_table_new.isnull().sum()"
   ]
  },
  {
   "cell_type": "code",
   "execution_count": 4,
   "id": "b7fa3823",
   "metadata": {
    "collapsed": true,
    "execution": {
     "iopub.execute_input": "2023-02-16T21:57:09.576530Z",
     "iopub.status.busy": "2023-02-16T21:57:09.576172Z",
     "iopub.status.idle": "2023-02-16T21:57:09.594850Z",
     "shell.execute_reply": "2023-02-16T21:57:09.593089Z"
    },
    "jupyter": {
     "outputs_hidden": true
    },
    "papermill": {
     "duration": 0.025436,
     "end_time": "2023-02-16T21:57:09.596816",
     "exception": false,
     "start_time": "2023-02-16T21:57:09.571380",
     "status": "completed"
    },
    "tags": []
   },
   "outputs": [
    {
     "name": "stdout",
     "output_type": "stream",
     "text": [
      "          Id  Room        Price  Size  Balcony  Floor  FloorsTotal  \\\n",
      "0          1     5  210020000.0   198   балкон      1            2   \n",
      "1          2     2   17630000.0    64  Unknown      3            8   \n",
      "2          3     5  142400000.0   161   балкон      7            7   \n",
      "3          4     5  142520000.0   265  Unknown      5            5   \n",
      "4          5     3   34070000.0    88  Unknown     10           42   \n",
      "...      ...   ...          ...   ...      ...    ...          ...   \n",
      "40503  40504     2   14100000.0    55   лоджия     17           18   \n",
      "40504  40505     2    6860000.0    44   балкон      2            5   \n",
      "40505  40506     3   32110000.0    96  Unknown     14           44   \n",
      "40506  40507     3    7760000.0    50   балкон      5            9   \n",
      "40507  40508     2    5300000.0    44   лоджия      6            9   \n",
      "\n",
      "                     Walls       Age          Lift         District Okrug  \n",
      "0                  Unknown  вторичка       Unknown            Сокол   САО  \n",
      "1               монолитный  вторичка      грузовой           Зюзино  ЮЗАО  \n",
      "2                кирпичный  вторичка  пассажирский      Пресненский   ЦАО  \n",
      "3                кирпичный  вторичка       Unknown        Басманный   ЦАО  \n",
      "4               монолитный  вторичка      грузовой      Хорошевский   САО  \n",
      "...                    ...       ...           ...              ...   ...  \n",
      "40503           монолитный  вторичка  пассажирский           Щукино  СЗАО  \n",
      "40504        панельный дом  вторичка       Unknown  Северное Тушино  СЗАО  \n",
      "40505  кирпично-монолитный  вторичка  пассажирский           Щукино  СЗАО  \n",
      "40506        панельный дом  вторичка  пассажирский  Северное Тушино  СЗАО  \n",
      "40507        панельный дом  вторичка  пассажирский        Печатники  ЮВАО  \n",
      "\n",
      "[40508 rows x 12 columns]\n"
     ]
    }
   ],
   "source": [
    " #a view of the train no missing values data set\n",
    "print(house_price_train_dataset_table_new)"
   ]
  },
  {
   "cell_type": "code",
   "execution_count": 5,
   "id": "2da864f5",
   "metadata": {
    "collapsed": true,
    "execution": {
     "iopub.execute_input": "2023-02-16T21:57:09.605968Z",
     "iopub.status.busy": "2023-02-16T21:57:09.605585Z",
     "iopub.status.idle": "2023-02-16T21:57:09.623250Z",
     "shell.execute_reply": "2023-02-16T21:57:09.621904Z"
    },
    "jupyter": {
     "outputs_hidden": true
    },
    "papermill": {
     "duration": 0.024812,
     "end_time": "2023-02-16T21:57:09.625629",
     "exception": false,
     "start_time": "2023-02-16T21:57:09.600817",
     "status": "completed"
    },
    "tags": []
   },
   "outputs": [
    {
     "data": {
      "text/html": [
       "<div>\n",
       "<style scoped>\n",
       "    .dataframe tbody tr th:only-of-type {\n",
       "        vertical-align: middle;\n",
       "    }\n",
       "\n",
       "    .dataframe tbody tr th {\n",
       "        vertical-align: top;\n",
       "    }\n",
       "\n",
       "    .dataframe thead th {\n",
       "        text-align: right;\n",
       "    }\n",
       "</style>\n",
       "<table border=\"1\" class=\"dataframe\">\n",
       "  <thead>\n",
       "    <tr style=\"text-align: right;\">\n",
       "      <th></th>\n",
       "      <th>Id</th>\n",
       "      <th>Room</th>\n",
       "      <th>Price</th>\n",
       "      <th>Size</th>\n",
       "      <th>Balcony</th>\n",
       "      <th>Floor</th>\n",
       "      <th>FloorsTotal</th>\n",
       "      <th>Walls</th>\n",
       "      <th>Age</th>\n",
       "      <th>Lift</th>\n",
       "      <th>District</th>\n",
       "      <th>Okrug</th>\n",
       "    </tr>\n",
       "  </thead>\n",
       "  <tbody>\n",
       "    <tr>\n",
       "      <th>0</th>\n",
       "      <td>1</td>\n",
       "      <td>5</td>\n",
       "      <td>210020000.0</td>\n",
       "      <td>198</td>\n",
       "      <td>балкон</td>\n",
       "      <td>1</td>\n",
       "      <td>2</td>\n",
       "      <td>Unknown</td>\n",
       "      <td>вторичка</td>\n",
       "      <td>Unknown</td>\n",
       "      <td>Сокол</td>\n",
       "      <td>САО</td>\n",
       "    </tr>\n",
       "    <tr>\n",
       "      <th>1</th>\n",
       "      <td>2</td>\n",
       "      <td>2</td>\n",
       "      <td>17630000.0</td>\n",
       "      <td>64</td>\n",
       "      <td>Unknown</td>\n",
       "      <td>3</td>\n",
       "      <td>8</td>\n",
       "      <td>монолитный</td>\n",
       "      <td>вторичка</td>\n",
       "      <td>грузовой</td>\n",
       "      <td>Зюзино</td>\n",
       "      <td>ЮЗАО</td>\n",
       "    </tr>\n",
       "    <tr>\n",
       "      <th>2</th>\n",
       "      <td>3</td>\n",
       "      <td>5</td>\n",
       "      <td>142400000.0</td>\n",
       "      <td>161</td>\n",
       "      <td>балкон</td>\n",
       "      <td>7</td>\n",
       "      <td>7</td>\n",
       "      <td>кирпичный</td>\n",
       "      <td>вторичка</td>\n",
       "      <td>пассажирский</td>\n",
       "      <td>Пресненский</td>\n",
       "      <td>ЦАО</td>\n",
       "    </tr>\n",
       "    <tr>\n",
       "      <th>3</th>\n",
       "      <td>4</td>\n",
       "      <td>5</td>\n",
       "      <td>142520000.0</td>\n",
       "      <td>265</td>\n",
       "      <td>Unknown</td>\n",
       "      <td>5</td>\n",
       "      <td>5</td>\n",
       "      <td>кирпичный</td>\n",
       "      <td>вторичка</td>\n",
       "      <td>Unknown</td>\n",
       "      <td>Басманный</td>\n",
       "      <td>ЦАО</td>\n",
       "    </tr>\n",
       "    <tr>\n",
       "      <th>4</th>\n",
       "      <td>5</td>\n",
       "      <td>3</td>\n",
       "      <td>34070000.0</td>\n",
       "      <td>88</td>\n",
       "      <td>Unknown</td>\n",
       "      <td>10</td>\n",
       "      <td>42</td>\n",
       "      <td>монолитный</td>\n",
       "      <td>вторичка</td>\n",
       "      <td>грузовой</td>\n",
       "      <td>Хорошевский</td>\n",
       "      <td>САО</td>\n",
       "    </tr>\n",
       "  </tbody>\n",
       "</table>\n",
       "</div>"
      ],
      "text/plain": [
       "   Id  Room        Price  Size  Balcony  Floor  FloorsTotal       Walls  \\\n",
       "0   1     5  210020000.0   198   балкон      1            2     Unknown   \n",
       "1   2     2   17630000.0    64  Unknown      3            8  монолитный   \n",
       "2   3     5  142400000.0   161   балкон      7            7   кирпичный   \n",
       "3   4     5  142520000.0   265  Unknown      5            5   кирпичный   \n",
       "4   5     3   34070000.0    88  Unknown     10           42  монолитный   \n",
       "\n",
       "        Age          Lift     District Okrug  \n",
       "0  вторичка       Unknown        Сокол   САО  \n",
       "1  вторичка      грузовой       Зюзино  ЮЗАО  \n",
       "2  вторичка  пассажирский  Пресненский   ЦАО  \n",
       "3  вторичка       Unknown    Басманный   ЦАО  \n",
       "4  вторичка      грузовой  Хорошевский   САО  "
      ]
     },
     "execution_count": 5,
     "metadata": {},
     "output_type": "execute_result"
    }
   ],
   "source": [
    "#a view of the first 5 rows of the no missing value train dataset\n",
    "house_price_train_dataset_table_new.head()"
   ]
  },
  {
   "cell_type": "code",
   "execution_count": 6,
   "id": "d8ff1d56",
   "metadata": {
    "collapsed": true,
    "execution": {
     "iopub.execute_input": "2023-02-16T21:57:09.635430Z",
     "iopub.status.busy": "2023-02-16T21:57:09.635086Z",
     "iopub.status.idle": "2023-02-16T21:57:09.646827Z",
     "shell.execute_reply": "2023-02-16T21:57:09.645534Z"
    },
    "jupyter": {
     "outputs_hidden": true
    },
    "papermill": {
     "duration": 0.018871,
     "end_time": "2023-02-16T21:57:09.648860",
     "exception": false,
     "start_time": "2023-02-16T21:57:09.629989",
     "status": "completed"
    },
    "tags": []
   },
   "outputs": [
    {
     "name": "stdout",
     "output_type": "stream",
     "text": [
      "          Id  Room  Size  Balcony  Floor  FloorsTotal          Walls  \\\n",
      "0      40509     2    58  Unknown      2            5        Unknown   \n",
      "1      40510     5   266   лоджия      3           14        Unknown   \n",
      "2      40511     5   197   лоджия      5            9        Unknown   \n",
      "3      40512     5   233   лоджия      3           14        Unknown   \n",
      "4      40513     2    69  Unknown      2            6        Unknown   \n",
      "...      ...   ...   ...      ...    ...          ...            ...   \n",
      "10122  50631     3    86   лоджия     14           14  панельный дом   \n",
      "10123  50632     3    82   лоджия      6           17  панельный дом   \n",
      "10124  50633     1    40   лоджия      3           23     монолитный   \n",
      "10125  50634     2    57  Unknown      3            9      кирпичный   \n",
      "10126  50635     3    55   балкон      6            9      кирпичный   \n",
      "\n",
      "            Age          Lift         District Okrug  \n",
      "0      вторичка       Unknown      Богородский   ВАО  \n",
      "1      вторичка      грузовой        Мещанский   ЦАО  \n",
      "2      вторичка      грузовой        Басманный   ЦАО  \n",
      "3      вторичка      грузовой        Мещанский   ЦАО  \n",
      "4      вторичка  пассажирский   Красносельский   ЦАО  \n",
      "...         ...           ...              ...   ...  \n",
      "10122  вторичка      грузовой          Люблино  ЮВАО  \n",
      "10123  вторичка      грузовой  Северное Бутово  ЮЗАО  \n",
      "10124  вторичка      грузовой     Южное Бутово  ЮЗАО  \n",
      "10125  вторичка  пассажирский      Даниловский   ЮАО  \n",
      "10126  вторичка       Unknown         Царицыно   ЮАО  \n",
      "\n",
      "[9886 rows x 11 columns]\n"
     ]
    }
   ],
   "source": [
    " #a view of the test data set\n",
    "print(house_price_test_dataset_table_new)"
   ]
  },
  {
   "cell_type": "code",
   "execution_count": 7,
   "id": "53ff36b8",
   "metadata": {
    "collapsed": true,
    "execution": {
     "iopub.execute_input": "2023-02-16T21:57:09.658356Z",
     "iopub.status.busy": "2023-02-16T21:57:09.658056Z",
     "iopub.status.idle": "2023-02-16T21:57:09.671314Z",
     "shell.execute_reply": "2023-02-16T21:57:09.670264Z"
    },
    "jupyter": {
     "outputs_hidden": true
    },
    "papermill": {
     "duration": 0.020169,
     "end_time": "2023-02-16T21:57:09.673234",
     "exception": false,
     "start_time": "2023-02-16T21:57:09.653065",
     "status": "completed"
    },
    "tags": []
   },
   "outputs": [
    {
     "data": {
      "text/html": [
       "<div>\n",
       "<style scoped>\n",
       "    .dataframe tbody tr th:only-of-type {\n",
       "        vertical-align: middle;\n",
       "    }\n",
       "\n",
       "    .dataframe tbody tr th {\n",
       "        vertical-align: top;\n",
       "    }\n",
       "\n",
       "    .dataframe thead th {\n",
       "        text-align: right;\n",
       "    }\n",
       "</style>\n",
       "<table border=\"1\" class=\"dataframe\">\n",
       "  <thead>\n",
       "    <tr style=\"text-align: right;\">\n",
       "      <th></th>\n",
       "      <th>Id</th>\n",
       "      <th>Room</th>\n",
       "      <th>Size</th>\n",
       "      <th>Balcony</th>\n",
       "      <th>Floor</th>\n",
       "      <th>FloorsTotal</th>\n",
       "      <th>Walls</th>\n",
       "      <th>Age</th>\n",
       "      <th>Lift</th>\n",
       "      <th>District</th>\n",
       "      <th>Okrug</th>\n",
       "    </tr>\n",
       "  </thead>\n",
       "  <tbody>\n",
       "    <tr>\n",
       "      <th>0</th>\n",
       "      <td>40509</td>\n",
       "      <td>2</td>\n",
       "      <td>58</td>\n",
       "      <td>Unknown</td>\n",
       "      <td>2</td>\n",
       "      <td>5</td>\n",
       "      <td>Unknown</td>\n",
       "      <td>вторичка</td>\n",
       "      <td>Unknown</td>\n",
       "      <td>Богородский</td>\n",
       "      <td>ВАО</td>\n",
       "    </tr>\n",
       "    <tr>\n",
       "      <th>1</th>\n",
       "      <td>40510</td>\n",
       "      <td>5</td>\n",
       "      <td>266</td>\n",
       "      <td>лоджия</td>\n",
       "      <td>3</td>\n",
       "      <td>14</td>\n",
       "      <td>Unknown</td>\n",
       "      <td>вторичка</td>\n",
       "      <td>грузовой</td>\n",
       "      <td>Мещанский</td>\n",
       "      <td>ЦАО</td>\n",
       "    </tr>\n",
       "    <tr>\n",
       "      <th>2</th>\n",
       "      <td>40511</td>\n",
       "      <td>5</td>\n",
       "      <td>197</td>\n",
       "      <td>лоджия</td>\n",
       "      <td>5</td>\n",
       "      <td>9</td>\n",
       "      <td>Unknown</td>\n",
       "      <td>вторичка</td>\n",
       "      <td>грузовой</td>\n",
       "      <td>Басманный</td>\n",
       "      <td>ЦАО</td>\n",
       "    </tr>\n",
       "    <tr>\n",
       "      <th>3</th>\n",
       "      <td>40512</td>\n",
       "      <td>5</td>\n",
       "      <td>233</td>\n",
       "      <td>лоджия</td>\n",
       "      <td>3</td>\n",
       "      <td>14</td>\n",
       "      <td>Unknown</td>\n",
       "      <td>вторичка</td>\n",
       "      <td>грузовой</td>\n",
       "      <td>Мещанский</td>\n",
       "      <td>ЦАО</td>\n",
       "    </tr>\n",
       "    <tr>\n",
       "      <th>4</th>\n",
       "      <td>40513</td>\n",
       "      <td>2</td>\n",
       "      <td>69</td>\n",
       "      <td>Unknown</td>\n",
       "      <td>2</td>\n",
       "      <td>6</td>\n",
       "      <td>Unknown</td>\n",
       "      <td>вторичка</td>\n",
       "      <td>пассажирский</td>\n",
       "      <td>Красносельский</td>\n",
       "      <td>ЦАО</td>\n",
       "    </tr>\n",
       "  </tbody>\n",
       "</table>\n",
       "</div>"
      ],
      "text/plain": [
       "      Id  Room  Size  Balcony  Floor  FloorsTotal    Walls       Age  \\\n",
       "0  40509     2    58  Unknown      2            5  Unknown  вторичка   \n",
       "1  40510     5   266   лоджия      3           14  Unknown  вторичка   \n",
       "2  40511     5   197   лоджия      5            9  Unknown  вторичка   \n",
       "3  40512     5   233   лоджия      3           14  Unknown  вторичка   \n",
       "4  40513     2    69  Unknown      2            6  Unknown  вторичка   \n",
       "\n",
       "           Lift        District Okrug  \n",
       "0       Unknown     Богородский   ВАО  \n",
       "1      грузовой       Мещанский   ЦАО  \n",
       "2      грузовой       Басманный   ЦАО  \n",
       "3      грузовой       Мещанский   ЦАО  \n",
       "4  пассажирский  Красносельский   ЦАО  "
      ]
     },
     "execution_count": 7,
     "metadata": {},
     "output_type": "execute_result"
    }
   ],
   "source": [
    "#a view of the first 5 rows of the test dataset\n",
    "house_price_test_dataset_table_new.head()"
   ]
  },
  {
   "cell_type": "code",
   "execution_count": 8,
   "id": "94ce4bdd",
   "metadata": {
    "execution": {
     "iopub.execute_input": "2023-02-16T21:57:09.684840Z",
     "iopub.status.busy": "2023-02-16T21:57:09.684234Z",
     "iopub.status.idle": "2023-02-16T21:57:09.689580Z",
     "shell.execute_reply": "2023-02-16T21:57:09.688262Z"
    },
    "jupyter": {
     "source_hidden": true
    },
    "papermill": {
     "duration": 0.013818,
     "end_time": "2023-02-16T21:57:09.691948",
     "exception": false,
     "start_time": "2023-02-16T21:57:09.678130",
     "status": "completed"
    },
    "tags": []
   },
   "outputs": [],
   "source": [
    "# #a view of the train data set\n",
    "# print(house_price_train_dataset_table)"
   ]
  },
  {
   "cell_type": "code",
   "execution_count": 9,
   "id": "3cfa29ea",
   "metadata": {
    "execution": {
     "iopub.execute_input": "2023-02-16T21:57:09.702780Z",
     "iopub.status.busy": "2023-02-16T21:57:09.701597Z",
     "iopub.status.idle": "2023-02-16T21:57:09.706268Z",
     "shell.execute_reply": "2023-02-16T21:57:09.705495Z"
    },
    "jupyter": {
     "source_hidden": true
    },
    "papermill": {
     "duration": 0.011626,
     "end_time": "2023-02-16T21:57:09.708095",
     "exception": false,
     "start_time": "2023-02-16T21:57:09.696469",
     "status": "completed"
    },
    "tags": []
   },
   "outputs": [],
   "source": [
    "# #a view of the first 5 rows of the train dataset\n",
    "# house_price_train_dataset_table.head()"
   ]
  },
  {
   "cell_type": "code",
   "execution_count": 10,
   "id": "d0feadef",
   "metadata": {
    "execution": {
     "iopub.execute_input": "2023-02-16T21:57:09.718362Z",
     "iopub.status.busy": "2023-02-16T21:57:09.718096Z",
     "iopub.status.idle": "2023-02-16T21:57:09.722271Z",
     "shell.execute_reply": "2023-02-16T21:57:09.721088Z"
    },
    "jupyter": {
     "source_hidden": true
    },
    "papermill": {
     "duration": 0.011589,
     "end_time": "2023-02-16T21:57:09.724419",
     "exception": false,
     "start_time": "2023-02-16T21:57:09.712830",
     "status": "completed"
    },
    "tags": []
   },
   "outputs": [],
   "source": [
    "# #a view of the test data set\n",
    "# print(house_price_test_dataset_table)"
   ]
  },
  {
   "cell_type": "code",
   "execution_count": 11,
   "id": "d4b7a35a",
   "metadata": {
    "execution": {
     "iopub.execute_input": "2023-02-16T21:57:09.734851Z",
     "iopub.status.busy": "2023-02-16T21:57:09.734537Z",
     "iopub.status.idle": "2023-02-16T21:57:09.738607Z",
     "shell.execute_reply": "2023-02-16T21:57:09.737500Z"
    },
    "jupyter": {
     "source_hidden": true
    },
    "papermill": {
     "duration": 0.012357,
     "end_time": "2023-02-16T21:57:09.741154",
     "exception": false,
     "start_time": "2023-02-16T21:57:09.728797",
     "status": "completed"
    },
    "tags": []
   },
   "outputs": [],
   "source": [
    "# #a view of the first 5 rows of the test dataset\n",
    "# house_price_test_dataset_table.head()"
   ]
  },
  {
   "cell_type": "code",
   "execution_count": 12,
   "id": "c112f7df",
   "metadata": {
    "execution": {
     "iopub.execute_input": "2023-02-16T21:57:09.753083Z",
     "iopub.status.busy": "2023-02-16T21:57:09.752672Z",
     "iopub.status.idle": "2023-02-16T21:57:09.757221Z",
     "shell.execute_reply": "2023-02-16T21:57:09.756150Z"
    },
    "jupyter": {
     "source_hidden": true
    },
    "papermill": {
     "duration": 0.013353,
     "end_time": "2023-02-16T21:57:09.759468",
     "exception": false,
     "start_time": "2023-02-16T21:57:09.746115",
     "status": "completed"
    },
    "tags": []
   },
   "outputs": [],
   "source": [
    "# #number of attribute cells without inputs\n",
    "# house_price_train_dataset_table.isnull().sum()"
   ]
  },
  {
   "cell_type": "code",
   "execution_count": 13,
   "id": "d1956ca4",
   "metadata": {
    "_kg_hide-output": false,
    "execution": {
     "iopub.execute_input": "2023-02-16T21:57:09.770794Z",
     "iopub.status.busy": "2023-02-16T21:57:09.770410Z",
     "iopub.status.idle": "2023-02-16T21:57:09.775174Z",
     "shell.execute_reply": "2023-02-16T21:57:09.773912Z"
    },
    "jupyter": {
     "source_hidden": true
    },
    "papermill": {
     "duration": 0.012773,
     "end_time": "2023-02-16T21:57:09.777140",
     "exception": false,
     "start_time": "2023-02-16T21:57:09.764367",
     "status": "completed"
    },
    "tags": []
   },
   "outputs": [],
   "source": [
    "# #code to view the different attributes of each feature\n",
    "# house_price_train_dataset_table['Age'].value_counts()"
   ]
  }
 ],
 "metadata": {
  "kernelspec": {
   "display_name": "Python 3",
   "language": "python",
   "name": "python3"
  },
  "language_info": {
   "codemirror_mode": {
    "name": "ipython",
    "version": 3
   },
   "file_extension": ".py",
   "mimetype": "text/x-python",
   "name": "python",
   "nbconvert_exporter": "python",
   "pygments_lexer": "ipython3",
   "version": "3.7.12"
  },
  "papermill": {
   "default_parameters": {},
   "duration": 12.043974,
   "end_time": "2023-02-16T21:57:10.503491",
   "environment_variables": {},
   "exception": null,
   "input_path": "__notebook__.ipynb",
   "output_path": "__notebook__.ipynb",
   "parameters": {},
   "start_time": "2023-02-16T21:56:58.459517",
   "version": "2.3.4"
  }
 },
 "nbformat": 4,
 "nbformat_minor": 5
}
