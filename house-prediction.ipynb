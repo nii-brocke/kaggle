{
 "cells": [
  {
   "cell_type": "code",
   "execution_count": 1,
   "id": "b1b9ef6c",
   "metadata": {
    "_cell_guid": "b1076dfc-b9ad-4769-8c92-a6c4dae69d19",
    "_uuid": "8f2839f25d086af736a60e9eeb907d3b93b6e0e5",
    "execution": {
     "iopub.execute_input": "2023-03-26T15:27:57.301369Z",
     "iopub.status.busy": "2023-03-26T15:27:57.300897Z",
     "iopub.status.idle": "2023-03-26T15:27:58.961825Z",
     "shell.execute_reply": "2023-03-26T15:27:58.960606Z"
    },
    "papermill": {
     "duration": 1.67439,
     "end_time": "2023-03-26T15:27:58.964801",
     "exception": false,
     "start_time": "2023-03-26T15:27:57.290411",
     "status": "completed"
    },
    "tags": []
   },
   "outputs": [],
   "source": [
    "import numpy as np # linear algebra\n",
    "import pandas as pd # data processing, CSV file I/O (e.g. pd.read_csv)\n",
    "import matplotlib.pyplot as plt\n",
    "import seaborn as sns\n",
    "import sklearn.datasets\n",
    "from sklearn.ensemble import RandomForestRegressor as rf, GradientBoostingRegressor as gbr, BaggingRegressor as br\n",
    "from sklearn.svm import SVR\n",
    "from sklearn.neighbors import KNeighborsRegressor as knr\n",
    "from xgboost import XGBRegressor\n",
    "from sklearn.impute import SimpleImputer\n",
    "from sklearn.model_selection import train_test_split\n",
    "from sklearn import metrics\n",
    "pd.set_option(\"display.max.columns\", None)\n",
    "# pd.set_option(\"display.max.rows\", None)"
   ]
  },
  {
   "cell_type": "code",
   "execution_count": 2,
   "id": "314895bb",
   "metadata": {
    "execution": {
     "iopub.execute_input": "2023-03-26T15:27:58.976735Z",
     "iopub.status.busy": "2023-03-26T15:27:58.976360Z",
     "iopub.status.idle": "2023-03-26T15:27:59.168582Z",
     "shell.execute_reply": "2023-03-26T15:27:59.167403Z"
    },
    "papermill": {
     "duration": 0.20089,
     "end_time": "2023-03-26T15:27:59.171080",
     "exception": false,
     "start_time": "2023-03-26T15:27:58.970190",
     "status": "completed"
    },
    "tags": []
   },
   "outputs": [
    {
     "data": {
      "text/plain": [
       "(40508, 12)"
      ]
     },
     "execution_count": 2,
     "metadata": {},
     "output_type": "execute_result"
    }
   ],
   "source": [
    "#storing the data from a file path to the varriable\n",
    "house_price_train_dataset_path = '/kaggle/input/hse-m-psmsimmo-p-347795-1-apartmentprice/train.csv'\n",
    "house_price_train_dataset_table = pd.read_csv(house_price_train_dataset_path)\n",
    "house_price_test_dataset_path = '/kaggle/input/hse-m-psmsimmo-p-347795-1-apartmentprice/test.csv'\n",
    "house_price_test_dataset_table = pd.read_csv(house_price_test_dataset_path)\n",
    "(house_price_test_dataset_table. index)\n",
    "\n",
    "# check shape of my data\n",
    "house_price_train_dataset_table.shape\n",
    "\n",
    "# out put number of empty cells, grouping by columns\n",
    "# house_price_train_dataset_table.isnull().sum()\n"
   ]
  },
  {
   "cell_type": "code",
   "execution_count": 3,
   "id": "32eb33b0",
   "metadata": {
    "execution": {
     "iopub.execute_input": "2023-03-26T15:27:59.183232Z",
     "iopub.status.busy": "2023-03-26T15:27:59.182860Z",
     "iopub.status.idle": "2023-03-26T15:27:59.237425Z",
     "shell.execute_reply": "2023-03-26T15:27:59.236373Z"
    },
    "papermill": {
     "duration": 0.063553,
     "end_time": "2023-03-26T15:27:59.240086",
     "exception": false,
     "start_time": "2023-03-26T15:27:59.176533",
     "status": "completed"
    },
    "tags": []
   },
   "outputs": [],
   "source": [
    "# deleting deletable rows with empty cells if they are not much\n",
    "house_price_train_dataset_table.dropna(subset=['District', 'Age','Walls'], inplace=True)\n",
    "house_price_train_dataset_table.isnull().sum()\n",
    "\n",
    "#Replacing  undeletable rows with empty cells with unknown for those cells\n",
    "house_price_train_dataset_table = house_price_train_dataset_table.fillna(\"Unknown\")\n",
    "house_price_test_dataset_table = house_price_test_dataset_table.fillna(\"Unknown\")\n",
    "\n",
    "# house_price_train_dataset_table.isnull().sum()\n",
    "# house_price_train_dataset_table.shape\n",
    "# print(house_price_train_dataset_table['Age'].unique())"
   ]
  },
  {
   "cell_type": "code",
   "execution_count": 4,
   "id": "68794418",
   "metadata": {
    "execution": {
     "iopub.execute_input": "2023-03-26T15:27:59.251832Z",
     "iopub.status.busy": "2023-03-26T15:27:59.251471Z",
     "iopub.status.idle": "2023-03-26T15:27:59.255769Z",
     "shell.execute_reply": "2023-03-26T15:27:59.254740Z"
    },
    "papermill": {
     "duration": 0.012538,
     "end_time": "2023-03-26T15:27:59.257889",
     "exception": false,
     "start_time": "2023-03-26T15:27:59.245351",
     "status": "completed"
    },
    "tags": []
   },
   "outputs": [],
   "source": [
    "# print(x_test['Age'].unique())\n",
    "# x_train.head()\n",
    "# house_price_train_dataset_table.shape\n",
    "# house_price_train_dataset_table.isnull().sum()[0:60]\n",
    "# x_train.dtypes[120:145]"
   ]
  },
  {
   "cell_type": "code",
   "execution_count": 5,
   "id": "39a5401a",
   "metadata": {
    "execution": {
     "iopub.execute_input": "2023-03-26T15:27:59.269513Z",
     "iopub.status.busy": "2023-03-26T15:27:59.269159Z",
     "iopub.status.idle": "2023-03-26T15:27:59.286864Z",
     "shell.execute_reply": "2023-03-26T15:27:59.285893Z"
    },
    "papermill": {
     "duration": 0.026043,
     "end_time": "2023-03-26T15:27:59.289069",
     "exception": false,
     "start_time": "2023-03-26T15:27:59.263026",
     "status": "completed"
    },
    "tags": []
   },
   "outputs": [
    {
     "data": {
      "text/html": [
       "<div>\n",
       "<style scoped>\n",
       "    .dataframe tbody tr th:only-of-type {\n",
       "        vertical-align: middle;\n",
       "    }\n",
       "\n",
       "    .dataframe tbody tr th {\n",
       "        vertical-align: top;\n",
       "    }\n",
       "\n",
       "    .dataframe thead th {\n",
       "        text-align: right;\n",
       "    }\n",
       "</style>\n",
       "<table border=\"1\" class=\"dataframe\">\n",
       "  <thead>\n",
       "    <tr style=\"text-align: right;\">\n",
       "      <th></th>\n",
       "      <th>Id</th>\n",
       "      <th>Room</th>\n",
       "      <th>Size</th>\n",
       "      <th>Balcony</th>\n",
       "      <th>Floor</th>\n",
       "      <th>FloorsTotal</th>\n",
       "      <th>Walls</th>\n",
       "      <th>Age</th>\n",
       "      <th>Lift</th>\n",
       "      <th>District</th>\n",
       "      <th>Okrug</th>\n",
       "    </tr>\n",
       "  </thead>\n",
       "  <tbody>\n",
       "    <tr>\n",
       "      <th>0</th>\n",
       "      <td>40509</td>\n",
       "      <td>2</td>\n",
       "      <td>58</td>\n",
       "      <td>Unknown</td>\n",
       "      <td>2</td>\n",
       "      <td>5</td>\n",
       "      <td>Unknown</td>\n",
       "      <td>вторичка</td>\n",
       "      <td>Unknown</td>\n",
       "      <td>Богородский</td>\n",
       "      <td>ВАО</td>\n",
       "    </tr>\n",
       "    <tr>\n",
       "      <th>1</th>\n",
       "      <td>40510</td>\n",
       "      <td>5</td>\n",
       "      <td>266</td>\n",
       "      <td>лоджия</td>\n",
       "      <td>3</td>\n",
       "      <td>14</td>\n",
       "      <td>Unknown</td>\n",
       "      <td>вторичка</td>\n",
       "      <td>грузовой</td>\n",
       "      <td>Мещанский</td>\n",
       "      <td>ЦАО</td>\n",
       "    </tr>\n",
       "    <tr>\n",
       "      <th>2</th>\n",
       "      <td>40511</td>\n",
       "      <td>5</td>\n",
       "      <td>197</td>\n",
       "      <td>лоджия</td>\n",
       "      <td>5</td>\n",
       "      <td>9</td>\n",
       "      <td>Unknown</td>\n",
       "      <td>вторичка</td>\n",
       "      <td>грузовой</td>\n",
       "      <td>Басманный</td>\n",
       "      <td>ЦАО</td>\n",
       "    </tr>\n",
       "    <tr>\n",
       "      <th>3</th>\n",
       "      <td>40512</td>\n",
       "      <td>5</td>\n",
       "      <td>233</td>\n",
       "      <td>лоджия</td>\n",
       "      <td>3</td>\n",
       "      <td>14</td>\n",
       "      <td>Unknown</td>\n",
       "      <td>вторичка</td>\n",
       "      <td>грузовой</td>\n",
       "      <td>Мещанский</td>\n",
       "      <td>ЦАО</td>\n",
       "    </tr>\n",
       "    <tr>\n",
       "      <th>4</th>\n",
       "      <td>40513</td>\n",
       "      <td>2</td>\n",
       "      <td>69</td>\n",
       "      <td>Unknown</td>\n",
       "      <td>2</td>\n",
       "      <td>6</td>\n",
       "      <td>Unknown</td>\n",
       "      <td>вторичка</td>\n",
       "      <td>пассажирский</td>\n",
       "      <td>Красносельский</td>\n",
       "      <td>ЦАО</td>\n",
       "    </tr>\n",
       "  </tbody>\n",
       "</table>\n",
       "</div>"
      ],
      "text/plain": [
       "      Id  Room  Size  Balcony  Floor  FloorsTotal    Walls       Age  \\\n",
       "0  40509     2    58  Unknown      2            5  Unknown  вторичка   \n",
       "1  40510     5   266   лоджия      3           14  Unknown  вторичка   \n",
       "2  40511     5   197   лоджия      5            9  Unknown  вторичка   \n",
       "3  40512     5   233   лоджия      3           14  Unknown  вторичка   \n",
       "4  40513     2    69  Unknown      2            6  Unknown  вторичка   \n",
       "\n",
       "           Lift        District Okrug  \n",
       "0       Unknown     Богородский   ВАО  \n",
       "1      грузовой       Мещанский   ЦАО  \n",
       "2      грузовой       Басманный   ЦАО  \n",
       "3      грузовой       Мещанский   ЦАО  \n",
       "4  пассажирский  Красносельский   ЦАО  "
      ]
     },
     "execution_count": 5,
     "metadata": {},
     "output_type": "execute_result"
    }
   ],
   "source": [
    "house_price_test_dataset_table.head()\n",
    "# house_price_train_dataset_table.columns.difference(house_price_test_dataset_table.columns).tolist()"
   ]
  },
  {
   "cell_type": "code",
   "execution_count": 6,
   "id": "fa6ca90c",
   "metadata": {
    "_kg_hide-input": false,
    "_kg_hide-output": false,
    "execution": {
     "iopub.execute_input": "2023-03-26T15:27:59.302088Z",
     "iopub.status.busy": "2023-03-26T15:27:59.301711Z",
     "iopub.status.idle": "2023-03-26T15:27:59.420472Z",
     "shell.execute_reply": "2023-03-26T15:27:59.419213Z"
    },
    "papermill": {
     "duration": 0.128455,
     "end_time": "2023-03-26T15:27:59.423196",
     "exception": false,
     "start_time": "2023-03-26T15:27:59.294741",
     "status": "completed"
    },
    "tags": []
   },
   "outputs": [],
   "source": [
    "# replacing categorical features for test and train data of 2 and 3 values with 0 and 1 or 1, 2, 3\n",
    "house_price_train_dataset_table['Age'] = house_price_train_dataset_table['Age'].replace({'новостройка': 1, 'вторичка': 0, 'Unknown': 0.5})\n",
    "house_price_test_dataset_table['Age'] = house_price_test_dataset_table['Age'].replace({'новостройка': 1, 'вторичка': 0, 'Unknown': 0.5})\n",
    "house_price_train_dataset_table['Lift'] = house_price_train_dataset_table['Lift'].replace({'грузовой': 3, 'пассажирский': 2, 'Unknown': 1})\n",
    "house_price_test_dataset_table['Lift'] = house_price_test_dataset_table['Lift'].replace({'грузовой': 3, 'пассажирский': 2, 'Unknown': 1})\n",
    "house_price_train_dataset_table['Balcony'] = house_price_train_dataset_table['Balcony'].replace({'лоджия': 3, 'балкон': 2, 'Unknown': 1})\n",
    "house_price_test_dataset_table['Balcony'] = house_price_test_dataset_table['Balcony'].replace({'лоджия': 3, 'балкон': 2, 'Unknown': 1})\n",
    "# replacing categorical features for test and train data with more than 3 values with dumies of 000 010 001 etc\n",
    "house_price_train_dataset_table = pd.get_dummies(house_price_train_dataset_table, columns=['Walls','Okrug', 'District'])\n",
    "house_price_test_dataset_table = pd.get_dummies(house_price_test_dataset_table, columns=['Walls','Okrug', 'District'])\n",
    "\n",
    "\n",
    "\n",
    "# Creating missing columns in test and train data\n",
    "house_price_train_dataset_table.insert(loc=23, column='District_Unknown',value=0)\n",
    "house_price_train_dataset_table.insert(loc=13, column='Okrug_Unknown',value=0)\n",
    "house_price_train_dataset_table.insert(loc=7, column='Walls_Unknown',value=0)\n",
    "house_price_test_dataset_table.insert(loc=37, column='District_Внуково',value=0)\n",
    "\n",
    "# house_price_train_dataset_table.shape\n",
    "# house_price_test_dataset_table.columns.difference(house_price_train_dataset_table.columns).tolist()\n",
    "# house_price_train_dataset_table = house_price_train_dataset_table.drop(['Balcony_балкон', 'Walls_кирпичный', 'Age', 'Lift', 'Okrug_САО', 'Okrug_СЗАО', 'Okrug_Unknown'], axis=1)\n",
    "# house_price_test_dataset_table =  house_price_test_dataset_table.drop(['Balcony_балкон', 'Walls_кирпичный', 'Age', 'Lift', 'Okrug_САО', 'Okrug_СЗАО', 'Okrug_Unknown'], axis=1)\n",
    "# Balcony_балкон, Walls_кирпичный, Age, Lift, Okrug_САО, Okrug_СЗАО, Okrug_Unknown"
   ]
  },
  {
   "cell_type": "code",
   "execution_count": 7,
   "id": "7011af06",
   "metadata": {
    "execution": {
     "iopub.execute_input": "2023-03-26T15:27:59.440564Z",
     "iopub.status.busy": "2023-03-26T15:27:59.440187Z",
     "iopub.status.idle": "2023-03-26T15:27:59.444989Z",
     "shell.execute_reply": "2023-03-26T15:27:59.443753Z"
    },
    "papermill": {
     "duration": 0.01467,
     "end_time": "2023-03-26T15:27:59.447308",
     "exception": false,
     "start_time": "2023-03-26T15:27:59.432638",
     "status": "completed"
    },
    "tags": []
   },
   "outputs": [],
   "source": [
    "# x_test['Age'] = house_price_test_dataset_table['Age'].replace({'Unknown': 0.5})"
   ]
  },
  {
   "cell_type": "code",
   "execution_count": 8,
   "id": "08f86186",
   "metadata": {
    "execution": {
     "iopub.execute_input": "2023-03-26T15:27:59.459648Z",
     "iopub.status.busy": "2023-03-26T15:27:59.459270Z",
     "iopub.status.idle": "2023-03-26T15:27:59.487833Z",
     "shell.execute_reply": "2023-03-26T15:27:59.486561Z"
    },
    "papermill": {
     "duration": 0.037737,
     "end_time": "2023-03-26T15:27:59.490472",
     "exception": false,
     "start_time": "2023-03-26T15:27:59.452735",
     "status": "completed"
    },
    "tags": []
   },
   "outputs": [],
   "source": [
    "#Deleting ID before fedding it to the model\n",
    "house_price_train_dataset_table = house_price_train_dataset_table.drop(['Id'], axis=1)\n",
    "house_price_test_dataset_table =  house_price_test_dataset_table.drop(['Id'], axis=1)"
   ]
  },
  {
   "cell_type": "code",
   "execution_count": 9,
   "id": "19a97c0e",
   "metadata": {
    "execution": {
     "iopub.execute_input": "2023-03-26T15:27:59.503272Z",
     "iopub.status.busy": "2023-03-26T15:27:59.502871Z",
     "iopub.status.idle": "2023-03-26T15:28:01.456228Z",
     "shell.execute_reply": "2023-03-26T15:28:01.455070Z"
    },
    "papermill": {
     "duration": 1.963039,
     "end_time": "2023-03-26T15:28:01.459106",
     "exception": false,
     "start_time": "2023-03-26T15:27:59.496067",
     "status": "completed"
    },
    "tags": []
   },
   "outputs": [
    {
     "name": "stdout",
     "output_type": "stream",
     "text": [
      "District_Вешняки                  -0.027999\n",
      "District_Южное Чертаново          -0.028794\n",
      "District_Дмитровский              -0.029103\n",
      "District_Люблино                  -0.029625\n",
      "District_Южное Орехово Борисово   -0.030070\n",
      "District_Митино                   -0.031793\n",
      "District_Отрадное                 -0.032526\n",
      "District_Гольяново                -0.032924\n",
      "District_Бирюлёво Восточное       -0.033900\n",
      "District_Марьино                  -0.034255\n",
      "Okrug_СЗАО                        -0.039250\n",
      "District_Южное Бутово             -0.043770\n",
      "District_Некрасовка               -0.043882\n",
      "Okrug_САО                         -0.044069\n",
      "Okrug_ЮЗАО                        -0.053876\n",
      "Walls_блочный                     -0.074960\n",
      "Okrug_СВАО                        -0.077004\n",
      "Okrug_ЮАО                         -0.084274\n",
      "Okrug_ВАО                         -0.086298\n",
      "Okrug_ЮВАО                        -0.090859\n",
      "Balcony                           -0.132296\n",
      "Walls_панельный дом               -0.211769\n",
      "Walls_Unknown                           NaN\n",
      "Okrug_Unknown                           NaN\n",
      "District_Unknown                        NaN\n",
      "Name: Price, dtype: float64\n"
     ]
    }
   ],
   "source": [
    "#undferstanding the correlation between the various features in the data(positive or negative)\n",
    "# correlation=house_price_train_dataset_table.corr()\n",
    "# plt.figure(figsize=(20,20))\n",
    "# sns.heatmap(correlation, cbar=True, square=True, fmt='.1f', annot=True, annot_kws={'size':5}, cmap='Blues')\n",
    "\n",
    "corr = house_price_train_dataset_table.corr()\n",
    "print (corr['Price'].sort_values(ascending=False)[120:180])\n"
   ]
  },
  {
   "cell_type": "code",
   "execution_count": 10,
   "id": "99389e23",
   "metadata": {
    "execution": {
     "iopub.execute_input": "2023-03-26T15:28:01.473172Z",
     "iopub.status.busy": "2023-03-26T15:28:01.472542Z",
     "iopub.status.idle": "2023-03-26T15:28:01.484015Z",
     "shell.execute_reply": "2023-03-26T15:28:01.482756Z"
    },
    "papermill": {
     "duration": 0.021069,
     "end_time": "2023-03-26T15:28:01.486492",
     "exception": false,
     "start_time": "2023-03-26T15:28:01.465423",
     "status": "completed"
    },
    "tags": []
   },
   "outputs": [],
   "source": [
    "# spliting the data\n",
    "x_train=house_price_train_dataset_table.drop(['Price'], axis=1)\n",
    "y_train=house_price_train_dataset_table['Price']\n",
    "x_test=house_price_test_dataset_table\n",
    "# X_train, X_test, Y_train, Y_test = train_test_split(X,Y, test_size=0.2, random_state=2)\n",
    "# print(X.shape, X_train.shape, X_test.shape )"
   ]
  },
  {
   "cell_type": "code",
   "execution_count": 11,
   "id": "c936cbf2",
   "metadata": {
    "execution": {
     "iopub.execute_input": "2023-03-26T15:28:01.499458Z",
     "iopub.status.busy": "2023-03-26T15:28:01.499052Z",
     "iopub.status.idle": "2023-03-26T15:35:01.205170Z",
     "shell.execute_reply": "2023-03-26T15:35:01.203809Z"
    },
    "papermill": {
     "duration": 419.720283,
     "end_time": "2023-03-26T15:35:01.212439",
     "exception": false,
     "start_time": "2023-03-26T15:28:01.492156",
     "status": "completed"
    },
    "tags": []
   },
   "outputs": [
    {
     "data": {
      "text/plain": [
       "RandomForestRegressor(n_estimators=1000, random_state=42)"
      ]
     },
     "execution_count": 11,
     "metadata": {},
     "output_type": "execute_result"
    }
   ],
   "source": [
    "# training the model\n",
    "# model = knr()\n",
    "# model = br()\n",
    "# model = gbr(learning_rate=0.1, random_state=60)\n",
    "# model = SVR()\n",
    "model=rf(n_estimators = 1000, random_state = 42) #BEST\n",
    "# model=XGBRegressor()\n",
    "model.fit(x_train, y_train)"
   ]
  },
  {
   "cell_type": "code",
   "execution_count": 12,
   "id": "69c7fc3e",
   "metadata": {
    "execution": {
     "iopub.execute_input": "2023-03-26T15:35:01.226607Z",
     "iopub.status.busy": "2023-03-26T15:35:01.226145Z",
     "iopub.status.idle": "2023-03-26T15:35:06.619538Z",
     "shell.execute_reply": "2023-03-26T15:35:06.618172Z"
    },
    "papermill": {
     "duration": 5.404907,
     "end_time": "2023-03-26T15:35:06.623477",
     "exception": false,
     "start_time": "2023-03-26T15:35:01.218570",
     "status": "completed"
    },
    "tags": []
   },
   "outputs": [
    {
     "name": "stdout",
     "output_type": "stream",
     "text": [
      "                   Price\n",
      "Id                      \n",
      "40509   8942865.00000000\n",
      "40510 248216440.00000000\n",
      "40511 106741930.00000000\n",
      "40512 159642740.00000000\n",
      "40513  27479155.05952381\n",
      "...                  ...\n",
      "50631  12264180.00000000\n",
      "50632  12583901.66666667\n",
      "50633   5424660.00000000\n",
      "50634  10608222.00000000\n",
      "50635   8738310.00000000\n",
      "\n",
      "[10127 rows x 1 columns]\n"
     ]
    }
   ],
   "source": [
    "# predicting the data\n",
    "# Reorder the test dataframe to match the order of the train dataframe\n",
    "x_test = x_test.reindex(columns = x_train.columns)\n",
    "test_data_prediction=model.predict(x_test)\n",
    "# checking errors with R Sqaured and mean absolute error\n",
    "# score_1=metrics.r2_score(Y_train, training_data_prediction)\n",
    "# score_2=metrics.mean_absolute_error(Y_train, training_data_prediction)\n",
    "# print('R square error: ', score_1)\n",
    "# print('mean absolute error: ', score_2)\n",
    "test_data_prediction=pd.DataFrame(test_data_prediction)\n",
    "pd.options.display.float_format = '{:.8f}'.format\n",
    "# test_data_prediction.insert(loc=0, column='Id', value=range(0,len(test_data_prediction)))\n",
    "# test_data_prediction.set_index('Id')\n",
    "test_data_prediction.index.name = 'Id'\n",
    "test_data_prediction.index = test_data_prediction.index + 40509\n",
    "test_data_prediction.rename(columns = {0:'Price'}, inplace = True)\n",
    "# pd.set_option('display.max_rows', None)\n",
    "test_data_prediction.to_csv(f\"Submission_file_oct-2021-101.csv\")\n",
    "print(test_data_prediction)\n",
    "\n",
    "\n"
   ]
  },
  {
   "cell_type": "code",
   "execution_count": 13,
   "id": "2042de28",
   "metadata": {
    "_kg_hide-input": false,
    "_kg_hide-output": false,
    "execution": {
     "iopub.execute_input": "2023-03-26T15:35:06.640168Z",
     "iopub.status.busy": "2023-03-26T15:35:06.639673Z",
     "iopub.status.idle": "2023-03-26T15:35:06.645341Z",
     "shell.execute_reply": "2023-03-26T15:35:06.644017Z"
    },
    "papermill": {
     "duration": 0.016524,
     "end_time": "2023-03-26T15:35:06.648705",
     "exception": false,
     "start_time": "2023-03-26T15:35:06.632181",
     "status": "completed"
    },
    "tags": []
   },
   "outputs": [],
   "source": [
    "# #a view of the train data set\n",
    "# print(house_price_train_dataset_table)"
   ]
  },
  {
   "cell_type": "code",
   "execution_count": 14,
   "id": "0efa8cb5",
   "metadata": {
    "execution": {
     "iopub.execute_input": "2023-03-26T15:35:06.669909Z",
     "iopub.status.busy": "2023-03-26T15:35:06.669336Z",
     "iopub.status.idle": "2023-03-26T15:35:06.674829Z",
     "shell.execute_reply": "2023-03-26T15:35:06.673582Z"
    },
    "papermill": {
     "duration": 0.019386,
     "end_time": "2023-03-26T15:35:06.677625",
     "exception": false,
     "start_time": "2023-03-26T15:35:06.658239",
     "status": "completed"
    },
    "tags": []
   },
   "outputs": [],
   "source": [
    "# #a view of the first 5 rows of the train dataset\n",
    "# house_price_train_dataset_table.head()"
   ]
  },
  {
   "cell_type": "code",
   "execution_count": 15,
   "id": "9b751a15",
   "metadata": {
    "execution": {
     "iopub.execute_input": "2023-03-26T15:35:06.693896Z",
     "iopub.status.busy": "2023-03-26T15:35:06.693034Z",
     "iopub.status.idle": "2023-03-26T15:35:06.697704Z",
     "shell.execute_reply": "2023-03-26T15:35:06.696631Z"
    },
    "papermill": {
     "duration": 0.015736,
     "end_time": "2023-03-26T15:35:06.700106",
     "exception": false,
     "start_time": "2023-03-26T15:35:06.684370",
     "status": "completed"
    },
    "tags": []
   },
   "outputs": [],
   "source": [
    "# #a view of the test data set\n",
    "# print(house_price_test_dataset_table)"
   ]
  },
  {
   "cell_type": "code",
   "execution_count": 16,
   "id": "7f3b34f6",
   "metadata": {
    "execution": {
     "iopub.execute_input": "2023-03-26T15:35:06.715907Z",
     "iopub.status.busy": "2023-03-26T15:35:06.715074Z",
     "iopub.status.idle": "2023-03-26T15:35:06.720388Z",
     "shell.execute_reply": "2023-03-26T15:35:06.718695Z"
    },
    "papermill": {
     "duration": 0.016046,
     "end_time": "2023-03-26T15:35:06.722865",
     "exception": false,
     "start_time": "2023-03-26T15:35:06.706819",
     "status": "completed"
    },
    "tags": []
   },
   "outputs": [],
   "source": [
    "# #a view of the first 5 rows of the test dataset\n",
    "# house_price_test_dataset_table.head()"
   ]
  },
  {
   "cell_type": "code",
   "execution_count": 17,
   "id": "f52dc895",
   "metadata": {
    "execution": {
     "iopub.execute_input": "2023-03-26T15:35:06.738216Z",
     "iopub.status.busy": "2023-03-26T15:35:06.737450Z",
     "iopub.status.idle": "2023-03-26T15:35:06.742112Z",
     "shell.execute_reply": "2023-03-26T15:35:06.741037Z"
    },
    "papermill": {
     "duration": 0.014936,
     "end_time": "2023-03-26T15:35:06.744397",
     "exception": false,
     "start_time": "2023-03-26T15:35:06.729461",
     "status": "completed"
    },
    "tags": []
   },
   "outputs": [],
   "source": [
    "# #number of attribute cells without inputs\n",
    "# house_price_train_dataset_table.isnull().sum()"
   ]
  },
  {
   "cell_type": "code",
   "execution_count": 18,
   "id": "8b7efc78",
   "metadata": {
    "_kg_hide-output": false,
    "execution": {
     "iopub.execute_input": "2023-03-26T15:35:06.759727Z",
     "iopub.status.busy": "2023-03-26T15:35:06.758907Z",
     "iopub.status.idle": "2023-03-26T15:35:06.763725Z",
     "shell.execute_reply": "2023-03-26T15:35:06.762658Z"
    },
    "papermill": {
     "duration": 0.015174,
     "end_time": "2023-03-26T15:35:06.766051",
     "exception": false,
     "start_time": "2023-03-26T15:35:06.750877",
     "status": "completed"
    },
    "tags": []
   },
   "outputs": [],
   "source": [
    "#code to view the different attributes of each feature\n",
    "# house_price_train_dataset_table['Wall'].value_counts()"
   ]
  },
  {
   "cell_type": "code",
   "execution_count": 19,
   "id": "6e399264",
   "metadata": {
    "execution": {
     "iopub.execute_input": "2023-03-26T15:35:06.782925Z",
     "iopub.status.busy": "2023-03-26T15:35:06.781852Z",
     "iopub.status.idle": "2023-03-26T15:35:06.788685Z",
     "shell.execute_reply": "2023-03-26T15:35:06.787137Z"
    },
    "papermill": {
     "duration": 0.019117,
     "end_time": "2023-03-26T15:35:06.791784",
     "exception": false,
     "start_time": "2023-03-26T15:35:06.772667",
     "status": "completed"
    },
    "tags": []
   },
   "outputs": [],
   "source": [
    "# code to select particular columns of a pandas table\n",
    "# q=house_price_train_dataset_table.iloc[:, [2,81,82,83,84,85,86,87,88,89,90,91,92,93,94,95,96,97,98,99]]\n",
    "# print(q)"
   ]
  },
  {
   "cell_type": "code",
   "execution_count": 20,
   "id": "04fd88cd",
   "metadata": {
    "execution": {
     "iopub.execute_input": "2023-03-26T15:35:06.808269Z",
     "iopub.status.busy": "2023-03-26T15:35:06.807388Z",
     "iopub.status.idle": "2023-03-26T15:35:06.825621Z",
     "shell.execute_reply": "2023-03-26T15:35:06.824011Z"
    },
    "papermill": {
     "duration": 0.030229,
     "end_time": "2023-03-26T15:35:06.828802",
     "exception": false,
     "start_time": "2023-03-26T15:35:06.798573",
     "status": "completed"
    },
    "tags": []
   },
   "outputs": [
    {
     "data": {
      "text/plain": [
       "Room                        0\n",
       "Size                        0\n",
       "Balcony                     0\n",
       "Floor                       0\n",
       "FloorsTotal                 0\n",
       "                           ..\n",
       "District_Южное Чертаново    0\n",
       "District_Южнопортовый       0\n",
       "District_Якиманка           0\n",
       "District_Ярославский        0\n",
       "District_Ясенево            0\n",
       "Length: 144, dtype: int64"
      ]
     },
     "execution_count": 20,
     "metadata": {},
     "output_type": "execute_result"
    }
   ],
   "source": [
    "house_price_test_dataset_table.isnull().sum()"
   ]
  },
  {
   "cell_type": "code",
   "execution_count": 21,
   "id": "59c84180",
   "metadata": {
    "execution": {
     "iopub.execute_input": "2023-03-26T15:35:06.846116Z",
     "iopub.status.busy": "2023-03-26T15:35:06.845338Z",
     "iopub.status.idle": "2023-03-26T15:35:06.864654Z",
     "shell.execute_reply": "2023-03-26T15:35:06.863555Z"
    },
    "papermill": {
     "duration": 0.031358,
     "end_time": "2023-03-26T15:35:06.866988",
     "exception": false,
     "start_time": "2023-03-26T15:35:06.835630",
     "status": "completed"
    },
    "tags": []
   },
   "outputs": [
    {
     "data": {
      "text/plain": [
       "Room                        0\n",
       "Price                       0\n",
       "Size                        0\n",
       "Balcony                     0\n",
       "Floor                       0\n",
       "                           ..\n",
       "District_Южное Чертаново    0\n",
       "District_Южнопортовый       0\n",
       "District_Якиманка           0\n",
       "District_Ярославский        0\n",
       "District_Ясенево            0\n",
       "Length: 145, dtype: int64"
      ]
     },
     "execution_count": 21,
     "metadata": {},
     "output_type": "execute_result"
    }
   ],
   "source": [
    "house_price_train_dataset_table.isnull().sum()"
   ]
  }
 ],
 "metadata": {
  "kernelspec": {
   "display_name": "Python 3",
   "language": "python",
   "name": "python3"
  },
  "language_info": {
   "codemirror_mode": {
    "name": "ipython",
    "version": 3
   },
   "file_extension": ".py",
   "mimetype": "text/x-python",
   "name": "python",
   "nbconvert_exporter": "python",
   "pygments_lexer": "ipython3",
   "version": "3.7.12"
  },
  "papermill": {
   "default_parameters": {},
   "duration": 440.409926,
   "end_time": "2023-03-26T15:35:07.900713",
   "environment_variables": {},
   "exception": null,
   "input_path": "__notebook__.ipynb",
   "output_path": "__notebook__.ipynb",
   "parameters": {},
   "start_time": "2023-03-26T15:27:47.490787",
   "version": "2.3.4"
  }
 },
 "nbformat": 4,
 "nbformat_minor": 5
}
