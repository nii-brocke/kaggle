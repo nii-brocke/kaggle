{
 "cells": [
  {
   "cell_type": "code",
   "execution_count": 1,
   "id": "431412b7",
   "metadata": {
    "_cell_guid": "b1076dfc-b9ad-4769-8c92-a6c4dae69d19",
    "_uuid": "8f2839f25d086af736a60e9eeb907d3b93b6e0e5",
    "execution": {
     "iopub.execute_input": "2023-02-18T08:46:18.517734Z",
     "iopub.status.busy": "2023-02-18T08:46:18.517325Z",
     "iopub.status.idle": "2023-02-18T08:46:19.733597Z",
     "shell.execute_reply": "2023-02-18T08:46:19.732882Z"
    },
    "papermill": {
     "duration": 1.226484,
     "end_time": "2023-02-18T08:46:19.735842",
     "exception": false,
     "start_time": "2023-02-18T08:46:18.509358",
     "status": "completed"
    },
    "tags": []
   },
   "outputs": [],
   "source": [
    "import numpy as np # linear algebra\n",
    "import pandas as pd # data processing, CSV file I/O (e.g. pd.read_csv)\n",
    "import matplotlib.pyplot as plt\n",
    "import seaborn as sns\n",
    "import sklearn.datasets\n",
    "# from sklearn.preprocessing import Imputer\n",
    "from sklearn.impute import SimpleImputer\n",
    "from sklearn.model_selection import train_test_split\n",
    "from xgboost import XGBRegressor\n",
    "from sklearn import metrics"
   ]
  },
  {
   "cell_type": "code",
   "execution_count": 2,
   "id": "5d2e834a",
   "metadata": {
    "execution": {
     "iopub.execute_input": "2023-02-18T08:46:19.744960Z",
     "iopub.status.busy": "2023-02-18T08:46:19.744441Z",
     "iopub.status.idle": "2023-02-18T08:46:19.924035Z",
     "shell.execute_reply": "2023-02-18T08:46:19.923133Z"
    },
    "papermill": {
     "duration": 0.186478,
     "end_time": "2023-02-18T08:46:19.926325",
     "exception": false,
     "start_time": "2023-02-18T08:46:19.739847",
     "status": "completed"
    },
    "tags": []
   },
   "outputs": [],
   "source": [
    "#storing the data from a file path to the varriable\n",
    "house_price_train_dataset_path = '/kaggle/input/hse-m-psmsimmo-p-347795-1-apartmentprice/train.csv'\n",
    "house_price_train_dataset_table = pd.read_csv(house_price_train_dataset_path)\n",
    "house_price_test_dataset_path = '/kaggle/input/hse-m-psmsimmo-p-347795-1-apartmentprice/test.csv'\n",
    "house_price_test_dataset_table = pd.read_csv(house_price_test_dataset_path)"
   ]
  },
  {
   "cell_type": "code",
   "execution_count": 3,
   "id": "28900e98",
   "metadata": {
    "_kg_hide-input": false,
    "_kg_hide-output": false,
    "execution": {
     "iopub.execute_input": "2023-02-18T08:46:19.936369Z",
     "iopub.status.busy": "2023-02-18T08:46:19.935866Z",
     "iopub.status.idle": "2023-02-18T08:46:19.985692Z",
     "shell.execute_reply": "2023-02-18T08:46:19.984849Z"
    },
    "papermill": {
     "duration": 0.056957,
     "end_time": "2023-02-18T08:46:19.987903",
     "exception": false,
     "start_time": "2023-02-18T08:46:19.930946",
     "status": "completed"
    },
    "tags": []
   },
   "outputs": [
    {
     "data": {
      "text/plain": [
       "Id             0\n",
       "Room           0\n",
       "Size           0\n",
       "Balcony        0\n",
       "Floor          0\n",
       "FloorsTotal    0\n",
       "Walls          0\n",
       "Age            0\n",
       "Lift           0\n",
       "District       0\n",
       "Okrug          0\n",
       "dtype: int64"
      ]
     },
     "execution_count": 3,
     "metadata": {},
     "output_type": "execute_result"
    }
   ],
   "source": [
    "#Deleting rows with empty cells in Age, District and Okrug and replacing all other rows with unknown for train and test dataset\n",
    "house_price_train_dataset_table_new = house_price_train_dataset_table.dropna(axis=0, subset=['Age', 'District','Okrug'])\n",
    "house_price_test_dataset_table_new = house_price_test_dataset_table.dropna(axis=0, subset=['Age', 'District','Okrug'])\n",
    "house_price_train_dataset_table_new = house_price_train_dataset_table.fillna(\"Unknown\")\n",
    "house_price_test_dataset_table_new = house_price_test_dataset_table_new.fillna(\"Unknown\")\n",
    "# house_price_train_dataset_table_new = house_price_train_dataset_table.dropna(axis=0, subset=['Id','Age', 'District','Okrug'])\n",
    "house_price_test_dataset_table_new.isnull().sum()"
   ]
  },
  {
   "cell_type": "code",
   "execution_count": 4,
   "id": "ce4d0a5c",
   "metadata": {
    "execution": {
     "iopub.execute_input": "2023-02-18T08:46:19.997709Z",
     "iopub.status.busy": "2023-02-18T08:46:19.996206Z",
     "iopub.status.idle": "2023-02-18T08:46:20.010454Z",
     "shell.execute_reply": "2023-02-18T08:46:20.009473Z"
    },
    "papermill": {
     "duration": 0.020675,
     "end_time": "2023-02-18T08:46:20.012470",
     "exception": false,
     "start_time": "2023-02-18T08:46:19.991795",
     "status": "completed"
    },
    "tags": []
   },
   "outputs": [
    {
     "name": "stdout",
     "output_type": "stream",
     "text": [
      "          Id  Room        Price  Size  Balcony  Floor  FloorsTotal  \\\n",
      "0          1     5  210020000.0   198   балкон      1            2   \n",
      "1          2     2   17630000.0    64  Unknown      3            8   \n",
      "2          3     5  142400000.0   161   балкон      7            7   \n",
      "3          4     5  142520000.0   265  Unknown      5            5   \n",
      "4          5     3   34070000.0    88  Unknown     10           42   \n",
      "...      ...   ...          ...   ...      ...    ...          ...   \n",
      "40503  40504     2   14100000.0    55   лоджия     17           18   \n",
      "40504  40505     2    6860000.0    44   балкон      2            5   \n",
      "40505  40506     3   32110000.0    96  Unknown     14           44   \n",
      "40506  40507     3    7760000.0    50   балкон      5            9   \n",
      "40507  40508     2    5300000.0    44   лоджия      6            9   \n",
      "\n",
      "                     Walls       Age          Lift         District Okrug  \n",
      "0                  Unknown  вторичка       Unknown            Сокол   САО  \n",
      "1               монолитный  вторичка      грузовой           Зюзино  ЮЗАО  \n",
      "2                кирпичный  вторичка  пассажирский      Пресненский   ЦАО  \n",
      "3                кирпичный  вторичка       Unknown        Басманный   ЦАО  \n",
      "4               монолитный  вторичка      грузовой      Хорошевский   САО  \n",
      "...                    ...       ...           ...              ...   ...  \n",
      "40503           монолитный  вторичка  пассажирский           Щукино  СЗАО  \n",
      "40504        панельный дом  вторичка       Unknown  Северное Тушино  СЗАО  \n",
      "40505  кирпично-монолитный  вторичка  пассажирский           Щукино  СЗАО  \n",
      "40506        панельный дом  вторичка  пассажирский  Северное Тушино  СЗАО  \n",
      "40507        панельный дом  вторичка  пассажирский        Печатники  ЮВАО  \n",
      "\n",
      "[40508 rows x 12 columns]\n"
     ]
    }
   ],
   "source": [
    " #a view of the train no missing values data set\n",
    "print(house_price_train_dataset_table_new)"
   ]
  },
  {
   "cell_type": "code",
   "execution_count": 5,
   "id": "abfcae7f",
   "metadata": {
    "execution": {
     "iopub.execute_input": "2023-02-18T08:46:20.022065Z",
     "iopub.status.busy": "2023-02-18T08:46:20.021797Z",
     "iopub.status.idle": "2023-02-18T08:46:20.037277Z",
     "shell.execute_reply": "2023-02-18T08:46:20.036293Z"
    },
    "papermill": {
     "duration": 0.022145,
     "end_time": "2023-02-18T08:46:20.038997",
     "exception": false,
     "start_time": "2023-02-18T08:46:20.016852",
     "status": "completed"
    },
    "tags": []
   },
   "outputs": [
    {
     "data": {
      "text/html": [
       "<div>\n",
       "<style scoped>\n",
       "    .dataframe tbody tr th:only-of-type {\n",
       "        vertical-align: middle;\n",
       "    }\n",
       "\n",
       "    .dataframe tbody tr th {\n",
       "        vertical-align: top;\n",
       "    }\n",
       "\n",
       "    .dataframe thead th {\n",
       "        text-align: right;\n",
       "    }\n",
       "</style>\n",
       "<table border=\"1\" class=\"dataframe\">\n",
       "  <thead>\n",
       "    <tr style=\"text-align: right;\">\n",
       "      <th></th>\n",
       "      <th>Id</th>\n",
       "      <th>Room</th>\n",
       "      <th>Price</th>\n",
       "      <th>Size</th>\n",
       "      <th>Balcony</th>\n",
       "      <th>Floor</th>\n",
       "      <th>FloorsTotal</th>\n",
       "      <th>Walls</th>\n",
       "      <th>Age</th>\n",
       "      <th>Lift</th>\n",
       "      <th>District</th>\n",
       "      <th>Okrug</th>\n",
       "    </tr>\n",
       "  </thead>\n",
       "  <tbody>\n",
       "    <tr>\n",
       "      <th>0</th>\n",
       "      <td>1</td>\n",
       "      <td>5</td>\n",
       "      <td>210020000.0</td>\n",
       "      <td>198</td>\n",
       "      <td>балкон</td>\n",
       "      <td>1</td>\n",
       "      <td>2</td>\n",
       "      <td>Unknown</td>\n",
       "      <td>вторичка</td>\n",
       "      <td>Unknown</td>\n",
       "      <td>Сокол</td>\n",
       "      <td>САО</td>\n",
       "    </tr>\n",
       "    <tr>\n",
       "      <th>1</th>\n",
       "      <td>2</td>\n",
       "      <td>2</td>\n",
       "      <td>17630000.0</td>\n",
       "      <td>64</td>\n",
       "      <td>Unknown</td>\n",
       "      <td>3</td>\n",
       "      <td>8</td>\n",
       "      <td>монолитный</td>\n",
       "      <td>вторичка</td>\n",
       "      <td>грузовой</td>\n",
       "      <td>Зюзино</td>\n",
       "      <td>ЮЗАО</td>\n",
       "    </tr>\n",
       "    <tr>\n",
       "      <th>2</th>\n",
       "      <td>3</td>\n",
       "      <td>5</td>\n",
       "      <td>142400000.0</td>\n",
       "      <td>161</td>\n",
       "      <td>балкон</td>\n",
       "      <td>7</td>\n",
       "      <td>7</td>\n",
       "      <td>кирпичный</td>\n",
       "      <td>вторичка</td>\n",
       "      <td>пассажирский</td>\n",
       "      <td>Пресненский</td>\n",
       "      <td>ЦАО</td>\n",
       "    </tr>\n",
       "    <tr>\n",
       "      <th>3</th>\n",
       "      <td>4</td>\n",
       "      <td>5</td>\n",
       "      <td>142520000.0</td>\n",
       "      <td>265</td>\n",
       "      <td>Unknown</td>\n",
       "      <td>5</td>\n",
       "      <td>5</td>\n",
       "      <td>кирпичный</td>\n",
       "      <td>вторичка</td>\n",
       "      <td>Unknown</td>\n",
       "      <td>Басманный</td>\n",
       "      <td>ЦАО</td>\n",
       "    </tr>\n",
       "    <tr>\n",
       "      <th>4</th>\n",
       "      <td>5</td>\n",
       "      <td>3</td>\n",
       "      <td>34070000.0</td>\n",
       "      <td>88</td>\n",
       "      <td>Unknown</td>\n",
       "      <td>10</td>\n",
       "      <td>42</td>\n",
       "      <td>монолитный</td>\n",
       "      <td>вторичка</td>\n",
       "      <td>грузовой</td>\n",
       "      <td>Хорошевский</td>\n",
       "      <td>САО</td>\n",
       "    </tr>\n",
       "  </tbody>\n",
       "</table>\n",
       "</div>"
      ],
      "text/plain": [
       "   Id  Room        Price  Size  Balcony  Floor  FloorsTotal       Walls  \\\n",
       "0   1     5  210020000.0   198   балкон      1            2     Unknown   \n",
       "1   2     2   17630000.0    64  Unknown      3            8  монолитный   \n",
       "2   3     5  142400000.0   161   балкон      7            7   кирпичный   \n",
       "3   4     5  142520000.0   265  Unknown      5            5   кирпичный   \n",
       "4   5     3   34070000.0    88  Unknown     10           42  монолитный   \n",
       "\n",
       "        Age          Lift     District Okrug  \n",
       "0  вторичка       Unknown        Сокол   САО  \n",
       "1  вторичка      грузовой       Зюзино  ЮЗАО  \n",
       "2  вторичка  пассажирский  Пресненский   ЦАО  \n",
       "3  вторичка       Unknown    Басманный   ЦАО  \n",
       "4  вторичка      грузовой  Хорошевский   САО  "
      ]
     },
     "execution_count": 5,
     "metadata": {},
     "output_type": "execute_result"
    }
   ],
   "source": [
    "#a view of the first 5 rows of the no missing value train dataset\n",
    "house_price_train_dataset_table_new.head()"
   ]
  },
  {
   "cell_type": "code",
   "execution_count": 6,
   "id": "f7fe6511",
   "metadata": {
    "execution": {
     "iopub.execute_input": "2023-02-18T08:46:20.048633Z",
     "iopub.status.busy": "2023-02-18T08:46:20.048337Z",
     "iopub.status.idle": "2023-02-18T08:46:20.088860Z",
     "shell.execute_reply": "2023-02-18T08:46:20.087724Z"
    },
    "papermill": {
     "duration": 0.047629,
     "end_time": "2023-02-18T08:46:20.090791",
     "exception": false,
     "start_time": "2023-02-18T08:46:20.043162",
     "status": "completed"
    },
    "tags": []
   },
   "outputs": [
    {
     "data": {
      "text/html": [
       "<div>\n",
       "<style scoped>\n",
       "    .dataframe tbody tr th:only-of-type {\n",
       "        vertical-align: middle;\n",
       "    }\n",
       "\n",
       "    .dataframe tbody tr th {\n",
       "        vertical-align: top;\n",
       "    }\n",
       "\n",
       "    .dataframe thead th {\n",
       "        text-align: right;\n",
       "    }\n",
       "</style>\n",
       "<table border=\"1\" class=\"dataframe\">\n",
       "  <thead>\n",
       "    <tr style=\"text-align: right;\">\n",
       "      <th></th>\n",
       "      <th>Id</th>\n",
       "      <th>Room</th>\n",
       "      <th>Price</th>\n",
       "      <th>Size</th>\n",
       "      <th>Floor</th>\n",
       "      <th>FloorsTotal</th>\n",
       "    </tr>\n",
       "  </thead>\n",
       "  <tbody>\n",
       "    <tr>\n",
       "      <th>count</th>\n",
       "      <td>40508.000000</td>\n",
       "      <td>40508.000000</td>\n",
       "      <td>4.050800e+04</td>\n",
       "      <td>40508.000000</td>\n",
       "      <td>40508.000000</td>\n",
       "      <td>40508.000000</td>\n",
       "    </tr>\n",
       "    <tr>\n",
       "      <th>mean</th>\n",
       "      <td>20254.500000</td>\n",
       "      <td>2.217932</td>\n",
       "      <td>2.416226e+07</td>\n",
       "      <td>73.782636</td>\n",
       "      <td>8.286215</td>\n",
       "      <td>15.950059</td>\n",
       "    </tr>\n",
       "    <tr>\n",
       "      <th>std</th>\n",
       "      <td>11693.796689</td>\n",
       "      <td>1.086662</td>\n",
       "      <td>5.118166e+07</td>\n",
       "      <td>52.706547</td>\n",
       "      <td>7.441877</td>\n",
       "      <td>10.341203</td>\n",
       "    </tr>\n",
       "    <tr>\n",
       "      <th>min</th>\n",
       "      <td>1.000000</td>\n",
       "      <td>1.000000</td>\n",
       "      <td>1.660000e+06</td>\n",
       "      <td>10.000000</td>\n",
       "      <td>0.000000</td>\n",
       "      <td>2.000000</td>\n",
       "    </tr>\n",
       "    <tr>\n",
       "      <th>25%</th>\n",
       "      <td>10127.750000</td>\n",
       "      <td>1.000000</td>\n",
       "      <td>7.100000e+06</td>\n",
       "      <td>42.000000</td>\n",
       "      <td>3.000000</td>\n",
       "      <td>9.000000</td>\n",
       "    </tr>\n",
       "    <tr>\n",
       "      <th>50%</th>\n",
       "      <td>20254.500000</td>\n",
       "      <td>2.000000</td>\n",
       "      <td>1.045000e+07</td>\n",
       "      <td>59.000000</td>\n",
       "      <td>6.000000</td>\n",
       "      <td>14.000000</td>\n",
       "    </tr>\n",
       "    <tr>\n",
       "      <th>75%</th>\n",
       "      <td>30381.250000</td>\n",
       "      <td>3.000000</td>\n",
       "      <td>1.953250e+07</td>\n",
       "      <td>80.000000</td>\n",
       "      <td>11.000000</td>\n",
       "      <td>19.000000</td>\n",
       "    </tr>\n",
       "    <tr>\n",
       "      <th>max</th>\n",
       "      <td>40508.000000</td>\n",
       "      <td>5.000000</td>\n",
       "      <td>2.321650e+09</td>\n",
       "      <td>1703.000000</td>\n",
       "      <td>90.000000</td>\n",
       "      <td>101.000000</td>\n",
       "    </tr>\n",
       "  </tbody>\n",
       "</table>\n",
       "</div>"
      ],
      "text/plain": [
       "                 Id          Room         Price          Size         Floor  \\\n",
       "count  40508.000000  40508.000000  4.050800e+04  40508.000000  40508.000000   \n",
       "mean   20254.500000      2.217932  2.416226e+07     73.782636      8.286215   \n",
       "std    11693.796689      1.086662  5.118166e+07     52.706547      7.441877   \n",
       "min        1.000000      1.000000  1.660000e+06     10.000000      0.000000   \n",
       "25%    10127.750000      1.000000  7.100000e+06     42.000000      3.000000   \n",
       "50%    20254.500000      2.000000  1.045000e+07     59.000000      6.000000   \n",
       "75%    30381.250000      3.000000  1.953250e+07     80.000000     11.000000   \n",
       "max    40508.000000      5.000000  2.321650e+09   1703.000000     90.000000   \n",
       "\n",
       "        FloorsTotal  \n",
       "count  40508.000000  \n",
       "mean      15.950059  \n",
       "std       10.341203  \n",
       "min        2.000000  \n",
       "25%        9.000000  \n",
       "50%       14.000000  \n",
       "75%       19.000000  \n",
       "max      101.000000  "
      ]
     },
     "execution_count": 6,
     "metadata": {},
     "output_type": "execute_result"
    }
   ],
   "source": [
    "house_price_train_dataset_table_new.describe()"
   ]
  },
  {
   "cell_type": "code",
   "execution_count": 7,
   "id": "d305804c",
   "metadata": {
    "execution": {
     "iopub.execute_input": "2023-02-18T08:46:20.101425Z",
     "iopub.status.busy": "2023-02-18T08:46:20.100648Z",
     "iopub.status.idle": "2023-02-18T08:46:20.113696Z",
     "shell.execute_reply": "2023-02-18T08:46:20.112614Z"
    },
    "papermill": {
     "duration": 0.020521,
     "end_time": "2023-02-18T08:46:20.115797",
     "exception": false,
     "start_time": "2023-02-18T08:46:20.095276",
     "status": "completed"
    },
    "tags": []
   },
   "outputs": [
    {
     "name": "stdout",
     "output_type": "stream",
     "text": [
      "          Id  Room  Size  Balcony  Floor  FloorsTotal          Walls  \\\n",
      "0      40509     2    58  Unknown      2            5        Unknown   \n",
      "1      40510     5   266   лоджия      3           14        Unknown   \n",
      "2      40511     5   197   лоджия      5            9        Unknown   \n",
      "3      40512     5   233   лоджия      3           14        Unknown   \n",
      "4      40513     2    69  Unknown      2            6        Unknown   \n",
      "...      ...   ...   ...      ...    ...          ...            ...   \n",
      "10122  50631     3    86   лоджия     14           14  панельный дом   \n",
      "10123  50632     3    82   лоджия      6           17  панельный дом   \n",
      "10124  50633     1    40   лоджия      3           23     монолитный   \n",
      "10125  50634     2    57  Unknown      3            9      кирпичный   \n",
      "10126  50635     3    55   балкон      6            9      кирпичный   \n",
      "\n",
      "            Age          Lift         District Okrug  \n",
      "0      вторичка       Unknown      Богородский   ВАО  \n",
      "1      вторичка      грузовой        Мещанский   ЦАО  \n",
      "2      вторичка      грузовой        Басманный   ЦАО  \n",
      "3      вторичка      грузовой        Мещанский   ЦАО  \n",
      "4      вторичка  пассажирский   Красносельский   ЦАО  \n",
      "...         ...           ...              ...   ...  \n",
      "10122  вторичка      грузовой          Люблино  ЮВАО  \n",
      "10123  вторичка      грузовой  Северное Бутово  ЮЗАО  \n",
      "10124  вторичка      грузовой     Южное Бутово  ЮЗАО  \n",
      "10125  вторичка  пассажирский      Даниловский   ЮАО  \n",
      "10126  вторичка       Unknown         Царицыно   ЮАО  \n",
      "\n",
      "[9886 rows x 11 columns]\n"
     ]
    }
   ],
   "source": [
    " #a view of the test data set\n",
    "print(house_price_test_dataset_table_new)"
   ]
  },
  {
   "cell_type": "code",
   "execution_count": 8,
   "id": "51dfd95e",
   "metadata": {
    "execution": {
     "iopub.execute_input": "2023-02-18T08:46:20.126108Z",
     "iopub.status.busy": "2023-02-18T08:46:20.125803Z",
     "iopub.status.idle": "2023-02-18T08:46:20.139130Z",
     "shell.execute_reply": "2023-02-18T08:46:20.138174Z"
    },
    "papermill": {
     "duration": 0.020718,
     "end_time": "2023-02-18T08:46:20.141262",
     "exception": false,
     "start_time": "2023-02-18T08:46:20.120544",
     "status": "completed"
    },
    "tags": []
   },
   "outputs": [
    {
     "data": {
      "text/html": [
       "<div>\n",
       "<style scoped>\n",
       "    .dataframe tbody tr th:only-of-type {\n",
       "        vertical-align: middle;\n",
       "    }\n",
       "\n",
       "    .dataframe tbody tr th {\n",
       "        vertical-align: top;\n",
       "    }\n",
       "\n",
       "    .dataframe thead th {\n",
       "        text-align: right;\n",
       "    }\n",
       "</style>\n",
       "<table border=\"1\" class=\"dataframe\">\n",
       "  <thead>\n",
       "    <tr style=\"text-align: right;\">\n",
       "      <th></th>\n",
       "      <th>Id</th>\n",
       "      <th>Room</th>\n",
       "      <th>Size</th>\n",
       "      <th>Balcony</th>\n",
       "      <th>Floor</th>\n",
       "      <th>FloorsTotal</th>\n",
       "      <th>Walls</th>\n",
       "      <th>Age</th>\n",
       "      <th>Lift</th>\n",
       "      <th>District</th>\n",
       "      <th>Okrug</th>\n",
       "    </tr>\n",
       "  </thead>\n",
       "  <tbody>\n",
       "    <tr>\n",
       "      <th>0</th>\n",
       "      <td>40509</td>\n",
       "      <td>2</td>\n",
       "      <td>58</td>\n",
       "      <td>Unknown</td>\n",
       "      <td>2</td>\n",
       "      <td>5</td>\n",
       "      <td>Unknown</td>\n",
       "      <td>вторичка</td>\n",
       "      <td>Unknown</td>\n",
       "      <td>Богородский</td>\n",
       "      <td>ВАО</td>\n",
       "    </tr>\n",
       "    <tr>\n",
       "      <th>1</th>\n",
       "      <td>40510</td>\n",
       "      <td>5</td>\n",
       "      <td>266</td>\n",
       "      <td>лоджия</td>\n",
       "      <td>3</td>\n",
       "      <td>14</td>\n",
       "      <td>Unknown</td>\n",
       "      <td>вторичка</td>\n",
       "      <td>грузовой</td>\n",
       "      <td>Мещанский</td>\n",
       "      <td>ЦАО</td>\n",
       "    </tr>\n",
       "    <tr>\n",
       "      <th>2</th>\n",
       "      <td>40511</td>\n",
       "      <td>5</td>\n",
       "      <td>197</td>\n",
       "      <td>лоджия</td>\n",
       "      <td>5</td>\n",
       "      <td>9</td>\n",
       "      <td>Unknown</td>\n",
       "      <td>вторичка</td>\n",
       "      <td>грузовой</td>\n",
       "      <td>Басманный</td>\n",
       "      <td>ЦАО</td>\n",
       "    </tr>\n",
       "    <tr>\n",
       "      <th>3</th>\n",
       "      <td>40512</td>\n",
       "      <td>5</td>\n",
       "      <td>233</td>\n",
       "      <td>лоджия</td>\n",
       "      <td>3</td>\n",
       "      <td>14</td>\n",
       "      <td>Unknown</td>\n",
       "      <td>вторичка</td>\n",
       "      <td>грузовой</td>\n",
       "      <td>Мещанский</td>\n",
       "      <td>ЦАО</td>\n",
       "    </tr>\n",
       "    <tr>\n",
       "      <th>4</th>\n",
       "      <td>40513</td>\n",
       "      <td>2</td>\n",
       "      <td>69</td>\n",
       "      <td>Unknown</td>\n",
       "      <td>2</td>\n",
       "      <td>6</td>\n",
       "      <td>Unknown</td>\n",
       "      <td>вторичка</td>\n",
       "      <td>пассажирский</td>\n",
       "      <td>Красносельский</td>\n",
       "      <td>ЦАО</td>\n",
       "    </tr>\n",
       "  </tbody>\n",
       "</table>\n",
       "</div>"
      ],
      "text/plain": [
       "      Id  Room  Size  Balcony  Floor  FloorsTotal    Walls       Age  \\\n",
       "0  40509     2    58  Unknown      2            5  Unknown  вторичка   \n",
       "1  40510     5   266   лоджия      3           14  Unknown  вторичка   \n",
       "2  40511     5   197   лоджия      5            9  Unknown  вторичка   \n",
       "3  40512     5   233   лоджия      3           14  Unknown  вторичка   \n",
       "4  40513     2    69  Unknown      2            6  Unknown  вторичка   \n",
       "\n",
       "           Lift        District Okrug  \n",
       "0       Unknown     Богородский   ВАО  \n",
       "1      грузовой       Мещанский   ЦАО  \n",
       "2      грузовой       Басманный   ЦАО  \n",
       "3      грузовой       Мещанский   ЦАО  \n",
       "4  пассажирский  Красносельский   ЦАО  "
      ]
     },
     "execution_count": 8,
     "metadata": {},
     "output_type": "execute_result"
    }
   ],
   "source": [
    "#a view of the first 5 rows of the test dataset\n",
    "house_price_test_dataset_table_new.head()"
   ]
  },
  {
   "cell_type": "code",
   "execution_count": 9,
   "id": "c08e0e2d",
   "metadata": {
    "execution": {
     "iopub.execute_input": "2023-02-18T08:46:20.152143Z",
     "iopub.status.busy": "2023-02-18T08:46:20.151838Z",
     "iopub.status.idle": "2023-02-18T08:46:20.530145Z",
     "shell.execute_reply": "2023-02-18T08:46:20.529299Z"
    },
    "papermill": {
     "duration": 0.385939,
     "end_time": "2023-02-18T08:46:20.532093",
     "exception": false,
     "start_time": "2023-02-18T08:46:20.146154",
     "status": "completed"
    },
    "tags": []
   },
   "outputs": [
    {
     "data": {
      "text/plain": [
       "<AxesSubplot:>"
      ]
     },
     "execution_count": 9,
     "metadata": {},
     "output_type": "execute_result"
    },
    {
     "data": {
      "image/png": "[encoded data removed]",
      "text/plain": [
       "<Figure size 1000x1000 with 2 Axes>"
      ]
     },
     "metadata": {},
     "output_type": "display_data"
    }
   ],
   "source": [
    "#undferstanding the correlation between the various features in the data(positive or negative)\n",
    "correlation=house_price_train_dataset_table_new.corr()\n",
    "plt.figure(figsize=(10,10))\n",
    "sns.heatmap(correlation, cbar=True, square=True, fmt='.1f', annot=True, annot_kws={'size':5}, cmap='Blues')\n"
   ]
  },
  {
   "cell_type": "code",
   "execution_count": 10,
   "id": "30a5c8b3",
   "metadata": {
    "_kg_hide-input": false,
    "_kg_hide-output": false,
    "execution": {
     "iopub.execute_input": "2023-02-18T08:46:20.544536Z",
     "iopub.status.busy": "2023-02-18T08:46:20.543678Z",
     "iopub.status.idle": "2023-02-18T08:46:20.548410Z",
     "shell.execute_reply": "2023-02-18T08:46:20.547625Z"
    },
    "papermill": {
     "duration": 0.012711,
     "end_time": "2023-02-18T08:46:20.550252",
     "exception": false,
     "start_time": "2023-02-18T08:46:20.537541",
     "status": "completed"
    },
    "tags": []
   },
   "outputs": [],
   "source": [
    "# #a view of the train data set\n",
    "# print(house_price_train_dataset_table)"
   ]
  },
  {
   "cell_type": "code",
   "execution_count": 11,
   "id": "e06645e8",
   "metadata": {
    "execution": {
     "iopub.execute_input": "2023-02-18T08:46:20.561370Z",
     "iopub.status.busy": "2023-02-18T08:46:20.561129Z",
     "iopub.status.idle": "2023-02-18T08:46:20.564491Z",
     "shell.execute_reply": "2023-02-18T08:46:20.563686Z"
    },
    "papermill": {
     "duration": 0.010955,
     "end_time": "2023-02-18T08:46:20.566290",
     "exception": false,
     "start_time": "2023-02-18T08:46:20.555335",
     "status": "completed"
    },
    "tags": []
   },
   "outputs": [],
   "source": [
    "# #a view of the first 5 rows of the train dataset\n",
    "# house_price_train_dataset_table.head()"
   ]
  },
  {
   "cell_type": "code",
   "execution_count": 12,
   "id": "0470b55f",
   "metadata": {
    "execution": {
     "iopub.execute_input": "2023-02-18T08:46:20.577536Z",
     "iopub.status.busy": "2023-02-18T08:46:20.577221Z",
     "iopub.status.idle": "2023-02-18T08:46:20.581480Z",
     "shell.execute_reply": "2023-02-18T08:46:20.580477Z"
    },
    "papermill": {
     "duration": 0.011946,
     "end_time": "2023-02-18T08:46:20.583342",
     "exception": false,
     "start_time": "2023-02-18T08:46:20.571396",
     "status": "completed"
    },
    "tags": []
   },
   "outputs": [],
   "source": [
    "# #a view of the test data set\n",
    "# print(house_price_test_dataset_table)"
   ]
  },
  {
   "cell_type": "code",
   "execution_count": 13,
   "id": "f9d5492e",
   "metadata": {
    "execution": {
     "iopub.execute_input": "2023-02-18T08:46:20.594831Z",
     "iopub.status.busy": "2023-02-18T08:46:20.594501Z",
     "iopub.status.idle": "2023-02-18T08:46:20.598491Z",
     "shell.execute_reply": "2023-02-18T08:46:20.597628Z"
    },
    "papermill": {
     "duration": 0.011833,
     "end_time": "2023-02-18T08:46:20.600296",
     "exception": false,
     "start_time": "2023-02-18T08:46:20.588463",
     "status": "completed"
    },
    "tags": []
   },
   "outputs": [],
   "source": [
    "# #a view of the first 5 rows of the test dataset\n",
    "# house_price_test_dataset_table.head()"
   ]
  },
  {
   "cell_type": "code",
   "execution_count": 14,
   "id": "02b46474",
   "metadata": {
    "execution": {
     "iopub.execute_input": "2023-02-18T08:46:20.612479Z",
     "iopub.status.busy": "2023-02-18T08:46:20.611850Z",
     "iopub.status.idle": "2023-02-18T08:46:20.615492Z",
     "shell.execute_reply": "2023-02-18T08:46:20.614823Z"
    },
    "papermill": {
     "duration": 0.011545,
     "end_time": "2023-02-18T08:46:20.617078",
     "exception": false,
     "start_time": "2023-02-18T08:46:20.605533",
     "status": "completed"
    },
    "tags": []
   },
   "outputs": [],
   "source": [
    "# #number of attribute cells without inputs\n",
    "# house_price_train_dataset_table.isnull().sum()"
   ]
  },
  {
   "cell_type": "code",
   "execution_count": 15,
   "id": "07808f77",
   "metadata": {
    "_kg_hide-output": false,
    "execution": {
     "iopub.execute_input": "2023-02-18T08:46:20.629152Z",
     "iopub.status.busy": "2023-02-18T08:46:20.628514Z",
     "iopub.status.idle": "2023-02-18T08:46:20.632393Z",
     "shell.execute_reply": "2023-02-18T08:46:20.631665Z"
    },
    "papermill": {
     "duration": 0.012432,
     "end_time": "2023-02-18T08:46:20.634627",
     "exception": false,
     "start_time": "2023-02-18T08:46:20.622195",
     "status": "completed"
    },
    "tags": []
   },
   "outputs": [],
   "source": [
    "# #code to view the different attributes of each feature\n",
    "# house_price_train_dataset_table['Age'].value_counts()"
   ]
  }
 ],
 "metadata": {
  "kernelspec": {
   "display_name": "Python 3",
   "language": "python",
   "name": "python3"
  },
  "language_info": {
   "codemirror_mode": {
    "name": "ipython",
    "version": 3
   },
   "file_extension": ".py",
   "mimetype": "text/x-python",
   "name": "python",
   "nbconvert_exporter": "python",
   "pygments_lexer": "ipython3",
   "version": "3.7.12"
  },
  "papermill": {
   "default_parameters": {},
   "duration": 9.774356,
   "end_time": "2023-02-18T08:46:21.361522",
   "environment_variables": {},
   "exception": null,
   "input_path": "__notebook__.ipynb",
   "output_path": "__notebook__.ipynb",
   "parameters": {},
   "start_time": "2023-02-18T08:46:11.587166",
   "version": "2.3.4"
  }
 },
 "nbformat": 4,
 "nbformat_minor": 5
}
