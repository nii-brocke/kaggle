{
 "cells": [
  {
   "cell_type": "code",
   "execution_count": 1,
   "id": "8dfce5b0",
   "metadata": {
    "_cell_guid": "b1076dfc-b9ad-4769-8c92-a6c4dae69d19",
    "_uuid": "8f2839f25d086af736a60e9eeb907d3b93b6e0e5",
    "execution": {
     "iopub.execute_input": "2023-03-29T21:29:43.731585Z",
     "iopub.status.busy": "2023-03-29T21:29:43.731072Z",
     "iopub.status.idle": "2023-03-29T21:29:45.248700Z",
     "shell.execute_reply": "2023-03-29T21:29:45.247436Z"
    },
    "papermill": {
     "duration": 1.53044,
     "end_time": "2023-03-29T21:29:45.251595",
     "exception": false,
     "start_time": "2023-03-29T21:29:43.721155",
     "status": "completed"
    },
    "tags": []
   },
   "outputs": [],
   "source": [
    "import numpy as np # linear algebra\n",
    "import pandas as pd # data processing, CSV file I/O (e.g. pd.read_csv)\n",
    "import matplotlib.pyplot as plt\n",
    "import seaborn as sns\n",
    "import sklearn.datasets\n",
    "from sklearn.ensemble import RandomForestRegressor as rf, GradientBoostingRegressor as gbr, BaggingRegressor as br\n",
    "from sklearn.svm import SVR\n",
    "from sklearn.neighbors import KNeighborsRegressor as knr\n",
    "from xgboost import XGBRegressor\n",
    "from sklearn.impute import SimpleImputer\n",
    "from sklearn.model_selection import train_test_split\n",
    "from sklearn import metrics\n",
    "pd.set_option(\"display.max.columns\", None)\n",
    "# pd.set_option(\"display.max.rows\", None)"
   ]
  },
  {
   "cell_type": "code",
   "execution_count": 2,
   "id": "2a1b49ad",
   "metadata": {
    "execution": {
     "iopub.execute_input": "2023-03-29T21:29:45.260307Z",
     "iopub.status.busy": "2023-03-29T21:29:45.259867Z",
     "iopub.status.idle": "2023-03-29T21:29:45.474694Z",
     "shell.execute_reply": "2023-03-29T21:29:45.473517Z"
    },
    "papermill": {
     "duration": 0.22246,
     "end_time": "2023-03-29T21:29:45.477699",
     "exception": false,
     "start_time": "2023-03-29T21:29:45.255239",
     "status": "completed"
    },
    "tags": []
   },
   "outputs": [
    {
     "data": {
      "text/plain": [
       "Id                 0\n",
       "Room               0\n",
       "Price              0\n",
       "Size               0\n",
       "Balcony        12750\n",
       "Floor              0\n",
       "FloorsTotal        0\n",
       "Walls           5885\n",
       "Age              541\n",
       "Lift            9426\n",
       "District         357\n",
       "Okrug            357\n",
       "dtype: int64"
      ]
     },
     "execution_count": 2,
     "metadata": {},
     "output_type": "execute_result"
    }
   ],
   "source": [
    "#storing the data from a file path to the varriable\n",
    "house_price_train_dataset_path = '/kaggle/input/hse-m-psmsimmo-p-347795-1-apartmentprice/train.csv'\n",
    "house_price_train_dataset_table = pd.read_csv(house_price_train_dataset_path)\n",
    "house_price_test_dataset_path = '/kaggle/input/hse-m-psmsimmo-p-347795-1-apartmentprice/test.csv'\n",
    "house_price_test_dataset_table = pd.read_csv(house_price_test_dataset_path)\n",
    "(house_price_test_dataset_table. index)\n",
    "house_price_train_dataset_table.isnull().sum()\n"
   ]
  },
  {
   "cell_type": "code",
   "execution_count": 3,
   "id": "379ff01d",
   "metadata": {
    "execution": {
     "iopub.execute_input": "2023-03-29T21:29:45.486686Z",
     "iopub.status.busy": "2023-03-29T21:29:45.485589Z",
     "iopub.status.idle": "2023-03-29T21:29:45.531126Z",
     "shell.execute_reply": "2023-03-29T21:29:45.530125Z"
    },
    "papermill": {
     "duration": 0.052865,
     "end_time": "2023-03-29T21:29:45.533916",
     "exception": false,
     "start_time": "2023-03-29T21:29:45.481051",
     "status": "completed"
    },
    "tags": []
   },
   "outputs": [],
   "source": [
    "# deleting deletable rows with empty cells if they are not much\n",
    "house_price_train_dataset_table.dropna(subset=['Age','District','Okrug'], inplace=True)\n",
    "\n",
    "#Replacing  undeletable rows with empty cells with unknown for those cells\n",
    "house_price_train_dataset_table = house_price_train_dataset_table.fillna(\"Unknown\")\n",
    "house_price_test_dataset_table = house_price_test_dataset_table.fillna(\"Unknown\")\n",
    "\n"
   ]
  },
  {
   "cell_type": "code",
   "execution_count": 4,
   "id": "99fe7b6c",
   "metadata": {
    "_kg_hide-input": false,
    "_kg_hide-output": false,
    "execution": {
     "iopub.execute_input": "2023-03-29T21:29:45.542895Z",
     "iopub.status.busy": "2023-03-29T21:29:45.542443Z",
     "iopub.status.idle": "2023-03-29T21:29:45.688297Z",
     "shell.execute_reply": "2023-03-29T21:29:45.687327Z"
    },
    "papermill": {
     "duration": 0.153385,
     "end_time": "2023-03-29T21:29:45.690946",
     "exception": false,
     "start_time": "2023-03-29T21:29:45.537561",
     "status": "completed"
    },
    "tags": []
   },
   "outputs": [],
   "source": [
    "# appending new row to train dataset that has values in its cells that are present in test data but not in train beofre creating dummies.\n",
    "new_row_train = {'Id': 1111111111, 'Room': 0, 'Price': 0.0, 'Size': 0, 'Balcony': 'Unknown', 'Floor': 0, 'FloorsTotal': 0, 'Walls': 'Unknown', 'Age': 'Unknown', 'Lift': 'Unknown', 'District': 'Unknown', 'Okrug': 'Unknown'  }\n",
    "house_price_train_dataset_table = house_price_train_dataset_table.append(new_row_train, ignore_index=True)\n",
    "\n",
    "# appending new row to test dataset that has values in its cells that are present in train data but not in train beofre creating dummies.\n",
    "new_row_test = {'Id': 1111111111, 'Room': 0, 'Size': 0, 'Balcony': 'Unknown', 'Floor': 0, 'FloorsTotal': 0, 'Walls': 'Unknown', 'Age': 'Unknown', 'Lift': 'Unknown', 'District': 'Внуково', 'Okrug': 'СВАО'}\n",
    "house_price_test_dataset_table = house_price_test_dataset_table.append(new_row_test, ignore_index=True)\n",
    "\n",
    "# creating dummies for test and train data\n",
    "house_price_train_dataset_table = pd.get_dummies(house_price_train_dataset_table, columns=['Balcony','Walls','Age','Lift','District','Okrug'])\n",
    "house_price_test_dataset_table = pd.get_dummies(house_price_test_dataset_table, columns=['Balcony','Walls','Age','Lift','District','Okrug'])\n",
    "\n",
    "\n",
    "#Deleting ID and the rows created to get the dummies before fedding it to the model\n",
    "house_price_train_dataset_table = house_price_train_dataset_table[house_price_train_dataset_table.Id != 1111111111]\n",
    "house_price_test_dataset_table = house_price_test_dataset_table[house_price_test_dataset_table.Id != 1111111111]\n",
    "house_price_train_dataset_table = house_price_train_dataset_table.drop(['Id'], axis=1)\n",
    "house_price_test_dataset_table =  house_price_test_dataset_table.drop(['Id'], axis=1)"
   ]
  },
  {
   "cell_type": "code",
   "execution_count": 5,
   "id": "0df9fdbe",
   "metadata": {
    "execution": {
     "iopub.execute_input": "2023-03-29T21:29:45.700573Z",
     "iopub.status.busy": "2023-03-29T21:29:45.699517Z",
     "iopub.status.idle": "2023-03-29T21:29:45.705586Z",
     "shell.execute_reply": "2023-03-29T21:29:45.704348Z"
    },
    "papermill": {
     "duration": 0.013267,
     "end_time": "2023-03-29T21:29:45.708108",
     "exception": false,
     "start_time": "2023-03-29T21:29:45.694841",
     "status": "completed"
    },
    "tags": []
   },
   "outputs": [],
   "source": [
    "# pd.set_option(\"display.max.rows\", None)\n",
    "# house_price_test_dataset_table.tail()\n",
    "# y_train.head()\n",
    "# house_price_train_dataset_table.isnull().sum()[0:60]\n",
    "# y_train.shape\n",
    "# print(house_price_test_dataset_table['Okrug'].unique())\n",
    "# x_train.dtypes\n",
    "# print(house_price_test_dataset_table.loc[~house_price_test_dataset_table['District'].isin(house_price_train_dataset_table['District']), 'District'])\n",
    "# print(house_price_test_dataset_table[house_price_test_dataset_table['District'] == 'Внуково'])\n",
    "# print(house_price_test_dataset_table.columns.difference(house_price_train_dataset_table.columns))\n",
    "\n",
    "# corr = house_price_train_dataset_table.corr()\n",
    "# print (corr['Price'].sort_values(ascending=False)[120:180])\n",
    "\n",
    "#undferstanding the correlation between the various features in the data(positive or negative)\n",
    "# correlation=house_price_train_dataset_table.corr()\n",
    "# plt.figure(figsize=(20,20))\n",
    "# sns.heatmap(correlation, cbar=True, square=True, fmt='.1f', annot=True, annot_kws={'size':5}, cmap='Blues')\n",
    "\n",
    "# X_train, X_test, Y_train, Y_test = train_test_split(X,Y, test_size=0.2, random_state=2)\n",
    "# print(X.shape, X_train.shape, X_test.shape )\n",
    "\n",
    "# checking errors with R Sqaured and mean absolute error\n",
    "# score_1=metrics.r2_score(Y_train, training_data_prediction)\n",
    "# score_2=metrics.mean_absolute_error(Y_train, training_data_prediction)\n",
    "# print('R square error: ', score_1)\n",
    "# print('mean absolute error: ', score_2)"
   ]
  },
  {
   "cell_type": "code",
   "execution_count": 6,
   "id": "9dc735b5",
   "metadata": {
    "execution": {
     "iopub.execute_input": "2023-03-29T21:29:45.716722Z",
     "iopub.status.busy": "2023-03-29T21:29:45.715908Z",
     "iopub.status.idle": "2023-03-29T21:29:45.726709Z",
     "shell.execute_reply": "2023-03-29T21:29:45.725698Z"
    },
    "papermill": {
     "duration": 0.017609,
     "end_time": "2023-03-29T21:29:45.729094",
     "exception": false,
     "start_time": "2023-03-29T21:29:45.711485",
     "status": "completed"
    },
    "tags": []
   },
   "outputs": [],
   "source": [
    "# spliting the data\n",
    "x_train=house_price_train_dataset_table.drop(['Price'], axis=1)\n",
    "y_train=house_price_train_dataset_table['Price']\n",
    "x_test=house_price_test_dataset_table"
   ]
  },
  {
   "cell_type": "code",
   "execution_count": 7,
   "id": "5ea0b897",
   "metadata": {
    "execution": {
     "iopub.execute_input": "2023-03-29T21:29:45.738070Z",
     "iopub.status.busy": "2023-03-29T21:29:45.737063Z",
     "iopub.status.idle": "2023-03-29T21:29:57.382250Z",
     "shell.execute_reply": "2023-03-29T21:29:57.381090Z"
    },
    "papermill": {
     "duration": 11.652073,
     "end_time": "2023-03-29T21:29:57.384631",
     "exception": false,
     "start_time": "2023-03-29T21:29:45.732558",
     "status": "completed"
    },
    "tags": []
   },
   "outputs": [
    {
     "data": {
      "text/plain": [
       "XGBRegressor(base_score=0.5, booster='gbtree', callbacks=None,\n",
       "             colsample_bylevel=1, colsample_bynode=1, colsample_bytree=1,\n",
       "             early_stopping_rounds=None, enable_categorical=False,\n",
       "             eval_metric=None, gamma=0, gpu_id=-1, grow_policy='depthwise',\n",
       "             importance_type=None, interaction_constraints='',\n",
       "             learning_rate=0.300000012, max_bin=256, max_cat_to_onehot=4,\n",
       "             max_delta_step=0, max_depth=6, max_leaves=0, min_child_weight=1,\n",
       "             missing=nan, monotone_constraints='()', n_estimators=100, n_jobs=0,\n",
       "             num_parallel_tree=1, predictor='auto', random_state=0, reg_alpha=0,\n",
       "             reg_lambda=1, ...)"
      ]
     },
     "execution_count": 7,
     "metadata": {},
     "output_type": "execute_result"
    }
   ],
   "source": [
    "model=XGBRegressor()\n",
    "model.fit(x_train, y_train)"
   ]
  },
  {
   "cell_type": "code",
   "execution_count": 8,
   "id": "dd051b26",
   "metadata": {
    "execution": {
     "iopub.execute_input": "2023-03-29T21:29:57.393764Z",
     "iopub.status.busy": "2023-03-29T21:29:57.392990Z",
     "iopub.status.idle": "2023-03-29T21:29:57.465439Z",
     "shell.execute_reply": "2023-03-29T21:29:57.463832Z"
    },
    "papermill": {
     "duration": 0.080133,
     "end_time": "2023-03-29T21:29:57.468255",
     "exception": false,
     "start_time": "2023-03-29T21:29:57.388122",
     "status": "completed"
    },
    "tags": []
   },
   "outputs": [
    {
     "name": "stdout",
     "output_type": "stream",
     "text": [
      "                   Price\n",
      "Id                      \n",
      "40509   9665205.00000000\n",
      "40510 172610496.00000000\n",
      "40511 115669616.00000000\n",
      "40512 106420440.00000000\n",
      "40513  29160420.00000000\n",
      "...                  ...\n",
      "50631  12626517.00000000\n",
      "50632  11553871.00000000\n",
      "50633   5278871.00000000\n",
      "50634  10600226.00000000\n",
      "50635   9266459.00000000\n",
      "\n",
      "[10127 rows x 1 columns]\n"
     ]
    }
   ],
   "source": [
    "# Reorder the test dataframe to match the order of the train dataframe\n",
    "x_test = x_test.reindex(columns = x_train.columns)\n",
    "\n",
    "# predicting the data\n",
    "test_data_prediction=model.predict(x_test)\n",
    "test_data_prediction=pd.DataFrame(test_data_prediction)\n",
    "pd.options.display.float_format = '{:.8f}'.format\n",
    "test_data_prediction.index.name = 'Id'\n",
    "test_data_prediction.index = test_data_prediction.index + 40509\n",
    "test_data_prediction.rename(columns = {0:'Price'}, inplace = True)\n",
    "test_data_prediction.to_csv(f\"Submission_file_oct-2021-101.csv\")\n",
    "# res.to_csv(\"prediction_results.csv\")\n",
    "print(test_data_prediction)\n",
    "\n",
    "\n"
   ]
  }
 ],
 "metadata": {
  "kernelspec": {
   "display_name": "Python 3",
   "language": "python",
   "name": "python3"
  },
  "language_info": {
   "codemirror_mode": {
    "name": "ipython",
    "version": 3
   },
   "file_extension": ".py",
   "mimetype": "text/x-python",
   "name": "python",
   "nbconvert_exporter": "python",
   "pygments_lexer": "ipython3",
   "version": "3.7.12"
  },
  "papermill": {
   "default_parameters": {},
   "duration": 24.174642,
   "end_time": "2023-03-29T21:29:58.294766",
   "environment_variables": {},
   "exception": null,
   "input_path": "__notebook__.ipynb",
   "output_path": "__notebook__.ipynb",
   "parameters": {},
   "start_time": "2023-03-29T21:29:34.120124",
   "version": "2.3.4"
  }
 },
 "nbformat": 4,
 "nbformat_minor": 5
}
